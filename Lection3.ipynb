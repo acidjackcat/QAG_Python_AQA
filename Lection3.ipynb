{
  "nbformat": 4,
  "nbformat_minor": 0,
  "metadata": {
    "colab": {
      "name": "Lection3.ipynb",
      "provenance": [],
      "include_colab_link": true
    },
    "kernelspec": {
      "display_name": "Python 3",
      "language": "python",
      "name": "python3"
    }
  },
  "cells": [
    {
      "cell_type": "markdown",
      "metadata": {
        "id": "view-in-github",
        "colab_type": "text"
      },
      "source": [
        "<a href=\"https://colab.research.google.com/github/acidjackcat/QAG_Python_AQA/blob/master/Lection3.ipynb\" target=\"_parent\"><img src=\"https://colab.research.google.com/assets/colab-badge.svg\" alt=\"Open In Colab\"/></a>"
      ]
    },
    {
      "cell_type": "markdown",
      "metadata": {
        "id": "ZxdbdBsR3kVV",
        "colab_type": "text"
      },
      "source": [
        "# Функції ґенератори"
      ]
    },
    {
      "cell_type": "markdown",
      "metadata": {
        "id": "FjaYcnSn3kVY",
        "colab_type": "text"
      },
      "source": [
        "## Оголошення"
      ]
    },
    {
      "cell_type": "code",
      "metadata": {
        "id": "gHmHN1543kVa",
        "colab_type": "code",
        "colab": {}
      },
      "source": [
        "def F(a, b, c):\n",
        "    aa = 0\n",
        "    while True:\n",
        "        if aa == c:\n",
        "            return\n",
        "        yield a\n",
        "        a = b\n",
        "        b = a + b\n",
        "        aa += 1"
      ],
      "execution_count": 0,
      "outputs": []
    },
    {
      "cell_type": "markdown",
      "metadata": {
        "id": "Dp9JtvJp3kVe",
        "colab_type": "text"
      },
      "source": [
        "## Використання"
      ]
    },
    {
      "cell_type": "code",
      "metadata": {
        "id": "C8CJROnI3kVf",
        "colab_type": "code",
        "outputId": "c9d351ba-d37a-45d2-8d2e-2958b837078e",
        "colab": {
          "base_uri": "https://localhost:8080/",
          "height": 391
        }
      },
      "source": [
        "if __name__ == '__main__':\n",
        "    fib = F(0, 1, 10)\n",
        "\n",
        "    for i in range(12):\n",
        "        fib_num = fib.__next__()\n",
        "        print(\"{}: {}\".format(i, fib_num))"
      ],
      "execution_count": 0,
      "outputs": [
        {
          "output_type": "stream",
          "text": [
            "0: 0\n",
            "1: 1\n",
            "2: 2\n",
            "3: 4\n",
            "4: 8\n",
            "5: 16\n",
            "6: 32\n",
            "7: 64\n",
            "8: 128\n",
            "9: 256\n"
          ],
          "name": "stdout"
        },
        {
          "output_type": "error",
          "ename": "StopIteration",
          "evalue": "ignored",
          "traceback": [
            "\u001b[0;31m---------------------------------------------------------------------------\u001b[0m",
            "\u001b[0;31mStopIteration\u001b[0m                             Traceback (most recent call last)",
            "\u001b[0;32m<ipython-input-2-e9778bc7b8bb>\u001b[0m in \u001b[0;36m<module>\u001b[0;34m()\u001b[0m\n\u001b[1;32m      3\u001b[0m \u001b[0;34m\u001b[0m\u001b[0m\n\u001b[1;32m      4\u001b[0m     \u001b[0;32mfor\u001b[0m \u001b[0mi\u001b[0m \u001b[0;32min\u001b[0m \u001b[0mrange\u001b[0m\u001b[0;34m(\u001b[0m\u001b[0;36m12\u001b[0m\u001b[0;34m)\u001b[0m\u001b[0;34m:\u001b[0m\u001b[0;34m\u001b[0m\u001b[0;34m\u001b[0m\u001b[0m\n\u001b[0;32m----> 5\u001b[0;31m         \u001b[0mfib_num\u001b[0m \u001b[0;34m=\u001b[0m \u001b[0mfib\u001b[0m\u001b[0;34m.\u001b[0m\u001b[0m__next__\u001b[0m\u001b[0;34m(\u001b[0m\u001b[0;34m)\u001b[0m\u001b[0;34m\u001b[0m\u001b[0;34m\u001b[0m\u001b[0m\n\u001b[0m\u001b[1;32m      6\u001b[0m         \u001b[0mprint\u001b[0m\u001b[0;34m(\u001b[0m\u001b[0;34m\"{}: {}\"\u001b[0m\u001b[0;34m.\u001b[0m\u001b[0mformat\u001b[0m\u001b[0;34m(\u001b[0m\u001b[0mi\u001b[0m\u001b[0;34m,\u001b[0m \u001b[0mfib_num\u001b[0m\u001b[0;34m)\u001b[0m\u001b[0;34m)\u001b[0m\u001b[0;34m\u001b[0m\u001b[0;34m\u001b[0m\u001b[0m\n",
            "\u001b[0;31mStopIteration\u001b[0m: "
          ]
        }
      ]
    },
    {
      "cell_type": "code",
      "metadata": {
        "id": "2qXEnAuoYRyS",
        "colab_type": "code",
        "outputId": "4b416963-6da8-49ea-e854-94e2bb7df922",
        "colab": {
          "base_uri": "https://localhost:8080/",
          "height": 191
        }
      },
      "source": [
        "fib = F(0, 1, 10)\n",
        "for i in fib:\n",
        "  print(i)"
      ],
      "execution_count": 0,
      "outputs": [
        {
          "output_type": "stream",
          "text": [
            "0\n",
            "1\n",
            "2\n",
            "4\n",
            "8\n",
            "16\n",
            "32\n",
            "64\n",
            "128\n",
            "256\n"
          ],
          "name": "stdout"
        }
      ]
    },
    {
      "cell_type": "markdown",
      "metadata": {
        "id": "QlT7ftWZ3kVl",
        "colab_type": "text"
      },
      "source": [
        "# Співпрограми (Coroutines)"
      ]
    },
    {
      "cell_type": "markdown",
      "metadata": {
        "id": "juH1C4A13kVm",
        "colab_type": "text"
      },
      "source": [
        "## Оголошення"
      ]
    },
    {
      "cell_type": "code",
      "metadata": {
        "id": "TUb5gaCW3kVp",
        "colab_type": "code",
        "colab": {}
      },
      "source": [
        "import string\n",
        "from random import choice, randint\n",
        "\n",
        "\n",
        "def to_upper():\n",
        "    while True:\n",
        "        st= (yield)\n",
        "        print(\"ping: You said: {}\".format(st))\n",
        "        print(\"pong: We said: {}\".format(st.upper()))"
      ],
      "execution_count": 0,
      "outputs": []
    },
    {
      "cell_type": "markdown",
      "metadata": {
        "id": "4vhr346-3kVy",
        "colab_type": "text"
      },
      "source": [
        "## Використання"
      ]
    },
    {
      "cell_type": "code",
      "metadata": {
        "id": "Tm_m-uMr3kV1",
        "colab_type": "code",
        "outputId": "008f1724-2192-4962-a00d-4a6d568ea1c2",
        "colab": {
          "base_uri": "https://localhost:8080/",
          "height": 537
        }
      },
      "source": [
        "if __name__ == '__main__':\n",
        "    up = to_upper()\n",
        "    up.__next__()\n",
        "\n",
        "    for i in range(15):\n",
        "        min_char = 8\n",
        "        max_char = 12\n",
        "        allchar = string.ascii_letters \\\n",
        "        + string.punctuation \\\n",
        "        + string.digits\n",
        "        \n",
        "        password = \"\".join(\n",
        "            choice(allchar) \n",
        "            for x in range(randint(min_char, max_char)\n",
        "                          )\n",
        "        )\n",
        "        \n",
        "        up.send(password)"
      ],
      "execution_count": 0,
      "outputs": [
        {
          "output_type": "stream",
          "text": [
            "ping: You said: DJNSVa9Uf\n",
            "pong: We said: DJNSVA9UF\n",
            "ping: You said: U*0N3-7jK:W\n",
            "pong: We said: U*0N3-7JK:W\n",
            "ping: You said: M$b]Jl5b%6C)\n",
            "pong: We said: M$B]JL5B%6C)\n",
            "ping: You said: +MFo>e0E<.\"9\n",
            "pong: We said: +MFO>E0E<.\"9\n",
            "ping: You said: K,e?I<S^;2!9\n",
            "pong: We said: K,E?I<S^;2!9\n",
            "ping: You said: !(;QW2SU\\\n",
            "pong: We said: !(;QW2SU\\\n",
            "ping: You said: ]HvM`&)+-`\n",
            "pong: We said: ]HVM`&)+-`\n",
            "ping: You said: M2f*KXQYo,=%\n",
            "pong: We said: M2F*KXQYO,=%\n",
            "ping: You said: &s;>E\"GRB`\n",
            "pong: We said: &S;>E\"GRB`\n",
            "ping: You said: ZabtTUA/`MjT\n",
            "pong: We said: ZABTTUA/`MJT\n",
            "ping: You said: Xw2Nns\"hOM\n",
            "pong: We said: XW2NNS\"HOM\n",
            "ping: You said: !TY\"J<!,~5\n",
            "pong: We said: !TY\"J<!,~5\n",
            "ping: You said: %zv87G3KcqEB\n",
            "pong: We said: %ZV87G3KCQEB\n",
            "ping: You said: Y>-#,58E]\n",
            "pong: We said: Y>-#,58E]\n",
            "ping: You said: y2P^>Ot&&\n",
            "pong: We said: Y2P^>OT&&\n"
          ],
          "name": "stdout"
        }
      ]
    },
    {
      "cell_type": "markdown",
      "metadata": {
        "id": "CQhCnIfc3kV3",
        "colab_type": "text"
      },
      "source": [
        "# Замикання (closures)"
      ]
    },
    {
      "cell_type": "markdown",
      "metadata": {
        "id": "wxUO9ZjH3kV5",
        "colab_type": "text"
      },
      "source": [
        "## Оголошення"
      ]
    },
    {
      "cell_type": "code",
      "metadata": {
        "id": "HkbRD5503kV6",
        "colab_type": "code",
        "colab": {}
      },
      "source": [
        "def countdown(num: int):\n",
        "    def next():\n",
        "        nonlocal num\n",
        "        r = num\n",
        "        num -= 1\n",
        "        return r\n",
        "    return next"
      ],
      "execution_count": 0,
      "outputs": []
    },
    {
      "cell_type": "markdown",
      "metadata": {
        "id": "maOOL58C3kWD",
        "colab_type": "text"
      },
      "source": [
        "## Використання"
      ]
    },
    {
      "cell_type": "code",
      "metadata": {
        "id": "OsrcekL93kWG",
        "colab_type": "code",
        "outputId": "60e4a277-01f0-4e46-ca63-36e5bd8ee407",
        "colab": {
          "base_uri": "https://localhost:8080/",
          "height": 1000
        }
      },
      "source": [
        "if __name__ == '__main__':\n",
        "    nadia = countdown(10)\n",
        "    print(dir(nadia))\n",
        "    while True:\n",
        "        v = nadia()\n",
        "        if v < -150:\n",
        "            break\n",
        "        print(v)"
      ],
      "execution_count": 0,
      "outputs": [
        {
          "output_type": "stream",
          "text": [
            "['__annotations__', '__call__', '__class__', '__closure__', '__code__', '__defaults__', '__delattr__', '__dict__', '__dir__', '__doc__', '__eq__', '__format__', '__ge__', '__get__', '__getattribute__', '__globals__', '__gt__', '__hash__', '__init__', '__init_subclass__', '__kwdefaults__', '__le__', '__lt__', '__module__', '__name__', '__ne__', '__new__', '__qualname__', '__reduce__', '__reduce_ex__', '__repr__', '__setattr__', '__sizeof__', '__str__', '__subclasshook__']\n",
            "10\n",
            "9\n",
            "8\n",
            "7\n",
            "6\n",
            "5\n",
            "4\n",
            "3\n",
            "2\n",
            "1\n",
            "0\n",
            "-1\n",
            "-2\n",
            "-3\n",
            "-4\n",
            "-5\n",
            "-6\n",
            "-7\n",
            "-8\n",
            "-9\n",
            "-10\n",
            "-11\n",
            "-12\n",
            "-13\n",
            "-14\n",
            "-15\n",
            "-16\n",
            "-17\n",
            "-18\n",
            "-19\n",
            "-20\n",
            "-21\n",
            "-22\n",
            "-23\n",
            "-24\n",
            "-25\n",
            "-26\n",
            "-27\n",
            "-28\n",
            "-29\n",
            "-30\n",
            "-31\n",
            "-32\n",
            "-33\n",
            "-34\n",
            "-35\n",
            "-36\n",
            "-37\n",
            "-38\n",
            "-39\n",
            "-40\n",
            "-41\n",
            "-42\n",
            "-43\n",
            "-44\n",
            "-45\n",
            "-46\n",
            "-47\n",
            "-48\n",
            "-49\n",
            "-50\n",
            "-51\n",
            "-52\n",
            "-53\n",
            "-54\n",
            "-55\n",
            "-56\n",
            "-57\n",
            "-58\n",
            "-59\n",
            "-60\n",
            "-61\n",
            "-62\n",
            "-63\n",
            "-64\n",
            "-65\n",
            "-66\n",
            "-67\n",
            "-68\n",
            "-69\n",
            "-70\n",
            "-71\n",
            "-72\n",
            "-73\n",
            "-74\n",
            "-75\n",
            "-76\n",
            "-77\n",
            "-78\n",
            "-79\n",
            "-80\n",
            "-81\n",
            "-82\n",
            "-83\n",
            "-84\n",
            "-85\n",
            "-86\n",
            "-87\n",
            "-88\n",
            "-89\n",
            "-90\n",
            "-91\n",
            "-92\n",
            "-93\n",
            "-94\n",
            "-95\n",
            "-96\n",
            "-97\n",
            "-98\n",
            "-99\n",
            "-100\n",
            "-101\n",
            "-102\n",
            "-103\n",
            "-104\n",
            "-105\n",
            "-106\n",
            "-107\n",
            "-108\n",
            "-109\n",
            "-110\n",
            "-111\n",
            "-112\n",
            "-113\n",
            "-114\n",
            "-115\n",
            "-116\n",
            "-117\n",
            "-118\n",
            "-119\n",
            "-120\n",
            "-121\n",
            "-122\n",
            "-123\n",
            "-124\n",
            "-125\n",
            "-126\n",
            "-127\n",
            "-128\n",
            "-129\n",
            "-130\n",
            "-131\n",
            "-132\n",
            "-133\n",
            "-134\n",
            "-135\n",
            "-136\n",
            "-137\n",
            "-138\n",
            "-139\n",
            "-140\n",
            "-141\n",
            "-142\n",
            "-143\n",
            "-144\n",
            "-145\n",
            "-146\n",
            "-147\n",
            "-148\n",
            "-149\n",
            "-150\n"
          ],
          "name": "stdout"
        }
      ]
    },
    {
      "cell_type": "code",
      "metadata": {
        "id": "txXJRKnc3kWQ",
        "colab_type": "code",
        "colab": {}
      },
      "source": [
        ""
      ],
      "execution_count": 0,
      "outputs": []
    }
  ]
}