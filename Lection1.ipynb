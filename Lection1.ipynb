{
  "nbformat": 4,
  "nbformat_minor": 0,
  "metadata": {
    "colab": {
      "name": "Lection1.ipynb",
      "provenance": [],
      "include_colab_link": true
    },
    "kernelspec": {
      "display_name": "Python 3",
      "language": "python",
      "name": "python3"
    }
  },
  "cells": [
    {
      "cell_type": "markdown",
      "metadata": {
        "id": "view-in-github",
        "colab_type": "text"
      },
      "source": [
        "<a href=\"https://colab.research.google.com/github/acidjackcat/QAG_Python_AQA/blob/master/Lection1.ipynb\" target=\"_parent\"><img src=\"https://colab.research.google.com/assets/colab-badge.svg\" alt=\"Open In Colab\"/></a>"
      ]
    },
    {
      "cell_type": "markdown",
      "metadata": {
        "id": "-5a4r2fbL-Br",
        "colab_type": "text"
      },
      "source": [
        "# Перший код на Python "
      ]
    },
    {
      "cell_type": "code",
      "metadata": {
        "id": "SDdAhLAIL-Bz",
        "colab_type": "code",
        "outputId": "3c1a9eac-172e-4b6f-bd02-907ca300047d",
        "colab": {
          "base_uri": "https://localhost:8080/",
          "height": 35
        }
      },
      "source": [
        "print(\"Привіт Світе!!! Я вже тут\")"
      ],
      "execution_count": 0,
      "outputs": [
        {
          "output_type": "stream",
          "text": [
            "Привіт Світе!!! Я вже тут\n"
          ],
          "name": "stdout"
        }
      ]
    },
    {
      "cell_type": "markdown",
      "metadata": {
        "id": "Chs-vnH4L-Cs",
        "colab_type": "text"
      },
      "source": [
        "# Динамічна типізація в Python"
      ]
    },
    {
      "cell_type": "code",
      "metadata": {
        "id": "mVQYiBTBL-Cx",
        "colab_type": "code",
        "outputId": "b2060bf2-d065-4b56-e0b0-d31fa8ce5cbd",
        "colab": {
          "base_uri": "https://localhost:8080/",
          "height": 50
        }
      },
      "source": [
        "a = 10\n",
        "print(a)\n",
        "a = True\n",
        "print(a)"
      ],
      "execution_count": 0,
      "outputs": [
        {
          "output_type": "stream",
          "text": [
            "10\n",
            "True\n"
          ],
          "name": "stdout"
        }
      ]
    },
    {
      "cell_type": "markdown",
      "metadata": {
        "id": "uou5Yyt_L-DH",
        "colab_type": "text"
      },
      "source": [
        "# Встроєні типи даних в Python"
      ]
    },
    {
      "cell_type": "markdown",
      "metadata": {
        "id": "N8Eo2VbTL-DM",
        "colab_type": "text"
      },
      "source": [
        "## *int* - цілі числа"
      ]
    },
    {
      "cell_type": "code",
      "metadata": {
        "id": "Qojo2Y5UL-DR",
        "colab_type": "code",
        "outputId": "89bd3f65-e749-48ee-96c5-90b9921bd3f2",
        "colab": {
          "base_uri": "https://localhost:8080/",
          "height": 53
        }
      },
      "source": [
        "a = 1\n",
        "b  = -1200\n",
        "c = 23\n",
        "\n",
        "print(a + b)\n",
        "print(b/c)"
      ],
      "execution_count": 0,
      "outputs": [
        {
          "output_type": "stream",
          "text": [
            "-1199\n",
            "-52.17391304347826\n"
          ],
          "name": "stdout"
        }
      ]
    },
    {
      "cell_type": "markdown",
      "metadata": {
        "id": "dMrCEOEQL-Dk",
        "colab_type": "text"
      },
      "source": [
        "## *float* - десяткові дроби"
      ]
    },
    {
      "cell_type": "code",
      "metadata": {
        "id": "WfZjU18uL-Dp",
        "colab_type": "code",
        "outputId": "a332361f-cd15-43d1-9bad-9e057a66fa0b",
        "colab": {
          "base_uri": "https://localhost:8080/",
          "height": 53
        }
      },
      "source": [
        "a = 3.1415956\n",
        "b = 5/6\n",
        "print(a)\n",
        "print(b)"
      ],
      "execution_count": 0,
      "outputs": [
        {
          "output_type": "stream",
          "text": [
            "3.1415956\n",
            "0.8333333333333334\n"
          ],
          "name": "stdout"
        }
      ]
    },
    {
      "cell_type": "markdown",
      "metadata": {
        "id": "xzncAWYLL-D7",
        "colab_type": "text"
      },
      "source": [
        "## *str*  - стрічки **Unicode**"
      ]
    },
    {
      "cell_type": "code",
      "metadata": {
        "id": "A8mIe1D4L-EA",
        "colab_type": "code",
        "outputId": "af1d2818-1d7d-4f29-b543-1dceac038cce",
        "colab": {
          "base_uri": "https://localhost:8080/",
          "height": 150
        }
      },
      "source": [
        "a = \"Я стрічка\"\n",
        "b = 'Я теж стрічка'\n",
        "c = u'hi \\u732b'\n",
        "\n",
        "import random\n",
        "\n",
        "d = f\"I am number {random.randint(0, 10000)}\" #I am a comment\n",
        "\n",
        "y = \"\"\"\n",
        "dfgsrgrtgtr\n",
        "rgtrgtrtrg\n",
        "\"\"\"\n",
        "\n",
        "print(a)\n",
        "print(b)\n",
        "print(c)\n",
        "print(d)\n",
        "print(y)"
      ],
      "execution_count": 0,
      "outputs": [
        {
          "output_type": "stream",
          "text": [
            "Я стрічка\n",
            "Я теж стрічка\n",
            "hi 猫\n",
            "I am number 2225\n",
            "\n",
            "dfgsrgrtgtr\n",
            "rgtrgtrtrg\n",
            "\n"
          ],
          "name": "stdout"
        }
      ]
    },
    {
      "cell_type": "markdown",
      "metadata": {
        "id": "8YyGpNcJL-EU",
        "colab_type": "text"
      },
      "source": [
        "# Типи даних в Python. List"
      ]
    },
    {
      "cell_type": "markdown",
      "metadata": {
        "id": "BGpILzBOL-EY",
        "colab_type": "text"
      },
      "source": [
        "## Оголошення *list*"
      ]
    },
    {
      "cell_type": "code",
      "metadata": {
        "id": "TQNa713cL-Ee",
        "colab_type": "code",
        "outputId": "58d1e25c-fa83-4db7-8dac-542e13476c1c",
        "colab": {
          "base_uri": "https://localhost:8080/",
          "height": 71
        }
      },
      "source": [
        "apples = [1, 2, \"three\"]\n",
        "apples1 = list()\n",
        "apples2 = list(apples)\n",
        "print(apples)\n",
        "print(apples1)\n",
        "print(apples2)"
      ],
      "execution_count": 0,
      "outputs": [
        {
          "output_type": "stream",
          "text": [
            "[1, 2, 'three']\n",
            "[]\n",
            "[1, 2, 'three']\n"
          ],
          "name": "stdout"
        }
      ]
    },
    {
      "cell_type": "markdown",
      "metadata": {
        "id": "r92jo803L-Eq",
        "colab_type": "text"
      },
      "source": [
        "## Додати елемент у кінець"
      ]
    },
    {
      "cell_type": "code",
      "metadata": {
        "id": "azP3JoF-L-Eu",
        "colab_type": "code",
        "outputId": "f9505512-cbed-4f62-ebc8-b40cf4b09cf5",
        "colab": {
          "base_uri": "https://localhost:8080/",
          "height": 35
        }
      },
      "source": [
        "apples.append(4)\n",
        "print(apples)"
      ],
      "execution_count": 0,
      "outputs": [
        {
          "output_type": "stream",
          "text": [
            "[1, 2, 'three', 4]\n"
          ],
          "name": "stdout"
        }
      ]
    },
    {
      "cell_type": "markdown",
      "metadata": {
        "id": "hEEjdlikL-E8",
        "colab_type": "text"
      },
      "source": [
        "## Додати елемент після *індексу*"
      ]
    },
    {
      "cell_type": "code",
      "metadata": {
        "id": "I8zCACX-L-FA",
        "colab_type": "code",
        "outputId": "c5a42f51-4e07-4cd8-d8f0-d2ebd7565ace",
        "colab": {
          "base_uri": "https://localhost:8080/",
          "height": 35
        }
      },
      "source": [
        "apples.insert(3, True)\n",
        "print(apples)"
      ],
      "execution_count": 0,
      "outputs": [
        {
          "output_type": "stream",
          "text": [
            "[1, 2, 'three', True, 4]\n"
          ],
          "name": "stdout"
        }
      ]
    },
    {
      "cell_type": "markdown",
      "metadata": {
        "id": "PHfBvPY-L-FN",
        "colab_type": "text"
      },
      "source": [
        "## Доступ до елементу по *індексу*"
      ]
    },
    {
      "cell_type": "code",
      "metadata": {
        "id": "KvKUCjxSL-FS",
        "colab_type": "code",
        "outputId": "4782df9f-e7d1-4e0b-f9b9-be1dbdb5b3c0",
        "colab": {
          "base_uri": "https://localhost:8080/",
          "height": 35
        }
      },
      "source": [
        "print(apples[4])"
      ],
      "execution_count": 0,
      "outputs": [
        {
          "output_type": "stream",
          "text": [
            "4\n"
          ],
          "name": "stdout"
        }
      ]
    },
    {
      "cell_type": "markdown",
      "metadata": {
        "id": "L4IebUgUL-Fm",
        "colab_type": "text"
      },
      "source": [
        "## Видалити елемент"
      ]
    },
    {
      "cell_type": "code",
      "metadata": {
        "id": "GwxZD8WUL-GC",
        "colab_type": "code",
        "outputId": "7451aace-1147-4725-ad2b-438e1311d1c7",
        "colab": {
          "base_uri": "https://localhost:8080/",
          "height": 35
        }
      },
      "source": [
        "y = True\n",
        "apples.remove(4)\n",
        "print(apples)"
      ],
      "execution_count": 0,
      "outputs": [
        {
          "output_type": "stream",
          "text": [
            "[1, 2, 'three', True]\n"
          ],
          "name": "stdout"
        }
      ]
    },
    {
      "cell_type": "markdown",
      "metadata": {
        "id": "Rx30hYPLL-GP",
        "colab_type": "text"
      },
      "source": [
        "## Відсортувати список"
      ]
    },
    {
      "cell_type": "code",
      "metadata": {
        "id": "7nIQiYtoL-GT",
        "colab_type": "code",
        "outputId": "31813047-9d52-4b76-ec60-e2ef4d5e48db",
        "colab": {
          "base_uri": "https://localhost:8080/",
          "height": 35
        }
      },
      "source": [
        "apples = ['a', 'd', 'y', '0', 'a']\n",
        "apples.sort()\n",
        "print(apples)"
      ],
      "execution_count": 0,
      "outputs": [
        {
          "output_type": "stream",
          "text": [
            "['0', 'a', 'a', 'd', 'y']\n"
          ],
          "name": "stdout"
        }
      ]
    },
    {
      "cell_type": "markdown",
      "metadata": {
        "id": "Q7IFC9tOL-Gf",
        "colab_type": "text"
      },
      "source": [
        "## Дізнатись кількість входжень певного значення"
      ]
    },
    {
      "cell_type": "code",
      "metadata": {
        "id": "AUT3OAjqL-Gm",
        "colab_type": "code",
        "outputId": "e7767fe8-6df4-4175-9ae1-6ee44a963fa0",
        "colab": {
          "base_uri": "https://localhost:8080/",
          "height": 35
        }
      },
      "source": [
        "apples.count('a')"
      ],
      "execution_count": 0,
      "outputs": [
        {
          "output_type": "execute_result",
          "data": {
            "text/plain": [
              "2"
            ]
          },
          "metadata": {
            "tags": []
          },
          "execution_count": 9
        }
      ]
    },
    {
      "cell_type": "markdown",
      "metadata": {
        "id": "8_YM1pTpL-G7",
        "colab_type": "text"
      },
      "source": [
        "## Перевернути список"
      ]
    },
    {
      "cell_type": "code",
      "metadata": {
        "id": "a3HVIx6xL-HF",
        "colab_type": "code",
        "outputId": "2466c18b-106b-4d8d-b4bc-36bfa6f37938",
        "colab": {
          "base_uri": "https://localhost:8080/",
          "height": 35
        }
      },
      "source": [
        "apples.reverse()\n",
        "print(apples)"
      ],
      "execution_count": 0,
      "outputs": [
        {
          "output_type": "stream",
          "text": [
            "['y', 'd', 'a', 'a', '0']\n"
          ],
          "name": "stdout"
        }
      ]
    },
    {
      "cell_type": "markdown",
      "metadata": {
        "id": "dQxi9T-IL-HW",
        "colab_type": "text"
      },
      "source": [
        "## Зріз списку"
      ]
    },
    {
      "cell_type": "code",
      "metadata": {
        "id": "nc4t5gEcL-Ha",
        "colab_type": "code",
        "outputId": "3ccfbd2e-67b5-4320-8b2d-1642e2141049",
        "colab": {
          "base_uri": "https://localhost:8080/",
          "height": 35
        }
      },
      "source": [
        "print(apples[1:4])"
      ],
      "execution_count": 0,
      "outputs": [
        {
          "output_type": "stream",
          "text": [
            "['d', 'a', 'a']\n"
          ],
          "name": "stdout"
        }
      ]
    },
    {
      "cell_type": "markdown",
      "metadata": {
        "id": "qLNlQZOnL-Hl",
        "colab_type": "text"
      },
      "source": [
        "## Дізнатись індекс елементу"
      ]
    },
    {
      "cell_type": "code",
      "metadata": {
        "id": "71Nl0B4bL-Hp",
        "colab_type": "code",
        "outputId": "0be81194-d642-4670-8632-cdb893db1731",
        "colab": {
          "base_uri": "https://localhost:8080/",
          "height": 35
        }
      },
      "source": [
        "print(apples.index('a'))"
      ],
      "execution_count": 0,
      "outputs": [
        {
          "output_type": "stream",
          "text": [
            "2\n"
          ],
          "name": "stdout"
        }
      ]
    },
    {
      "cell_type": "markdown",
      "metadata": {
        "id": "xvhjg_G_L-H0",
        "colab_type": "text"
      },
      "source": [
        "## Змінити елемент за індексом"
      ]
    },
    {
      "cell_type": "code",
      "metadata": {
        "id": "JKEd-OOuL-H3",
        "colab_type": "code",
        "outputId": "ec08ba3e-93c0-49a2-e7e7-d7357474df22",
        "colab": {
          "base_uri": "https://localhost:8080/",
          "height": 53
        }
      },
      "source": [
        "print(apples)\n",
        "apples[2] = \"test\"\n",
        "print(apples)"
      ],
      "execution_count": 0,
      "outputs": [
        {
          "output_type": "stream",
          "text": [
            "['y', 'd', 'a', 'a', '0']\n",
            "['y', 'd', 'test', 'a', '0']\n"
          ],
          "name": "stdout"
        }
      ]
    },
    {
      "cell_type": "markdown",
      "metadata": {
        "id": "E40am1R0L-ID",
        "colab_type": "text"
      },
      "source": [
        "## Очистити список"
      ]
    },
    {
      "cell_type": "code",
      "metadata": {
        "id": "gzx69iWLL-IH",
        "colab_type": "code",
        "outputId": "cf5925a1-9aab-4b35-b746-590aeb7b3d0f",
        "colab": {
          "base_uri": "https://localhost:8080/",
          "height": 35
        }
      },
      "source": [
        "apples.clear()\n",
        "print(apples)"
      ],
      "execution_count": 0,
      "outputs": [
        {
          "output_type": "stream",
          "text": [
            "[]\n"
          ],
          "name": "stdout"
        }
      ]
    },
    {
      "cell_type": "markdown",
      "metadata": {
        "id": "uKqCU13fL-IS",
        "colab_type": "text"
      },
      "source": [
        "# Типи даних в Python. Tuple"
      ]
    },
    {
      "cell_type": "markdown",
      "metadata": {
        "id": "5eKx60qyL-IV",
        "colab_type": "text"
      },
      "source": [
        "## Декларація"
      ]
    },
    {
      "cell_type": "code",
      "metadata": {
        "id": "rxdtNM9jL-IZ",
        "colab_type": "code",
        "outputId": "58f33d13-4d6f-49c2-c1b6-37f0f55209ab",
        "colab": {
          "base_uri": "https://localhost:8080/",
          "height": 71
        }
      },
      "source": [
        "t_apples = (1, 2, \"three\")\n",
        "t_apples1 = tuple() #пустий\n",
        "t_apples2 = tuple(t_apples)\n",
        "\n",
        "print(t_apples)\n",
        "print(t_apples1)\n",
        "print(t_apples2)"
      ],
      "execution_count": 0,
      "outputs": [
        {
          "output_type": "stream",
          "text": [
            "(1, 2, 'three')\n",
            "()\n",
            "(1, 2, 'three')\n"
          ],
          "name": "stdout"
        }
      ]
    },
    {
      "cell_type": "markdown",
      "metadata": {
        "id": "do40k9ONL-Ik",
        "colab_type": "text"
      },
      "source": [
        "## Доступ до елементу по індексу"
      ]
    },
    {
      "cell_type": "code",
      "metadata": {
        "id": "QQOKp8AJL-Io",
        "colab_type": "code",
        "outputId": "173b293e-a6fe-4c16-85a6-f039f4bbd98a",
        "colab": {
          "base_uri": "https://localhost:8080/",
          "height": 35
        }
      },
      "source": [
        "print(t_apples[2])"
      ],
      "execution_count": 0,
      "outputs": [
        {
          "output_type": "stream",
          "text": [
            "three\n"
          ],
          "name": "stdout"
        }
      ]
    },
    {
      "cell_type": "markdown",
      "metadata": {
        "id": "AUxClbcrL-Iy",
        "colab_type": "text"
      },
      "source": [
        "## Дізнатись індекс елементу"
      ]
    },
    {
      "cell_type": "code",
      "metadata": {
        "id": "fbjqC11QL-I2",
        "colab_type": "code",
        "outputId": "7bcf02c8-8f10-4390-f83a-df8dca76ee10",
        "colab": {
          "base_uri": "https://localhost:8080/",
          "height": 35
        }
      },
      "source": [
        "print(t_apples.index(\"three\"))"
      ],
      "execution_count": 0,
      "outputs": [
        {
          "output_type": "stream",
          "text": [
            "2\n"
          ],
          "name": "stdout"
        }
      ]
    },
    {
      "cell_type": "markdown",
      "metadata": {
        "id": "NAQ9qIJ2L-JA",
        "colab_type": "text"
      },
      "source": [
        "## Дізнатись кількість входжень певного значення"
      ]
    },
    {
      "cell_type": "code",
      "metadata": {
        "id": "sGMs9fVwL-JD",
        "colab_type": "code",
        "outputId": "a81b6517-406b-41d7-fddb-188a65d77faf",
        "colab": {
          "base_uri": "https://localhost:8080/",
          "height": 35
        }
      },
      "source": [
        "t_apples.count(1)"
      ],
      "execution_count": 0,
      "outputs": [
        {
          "output_type": "execute_result",
          "data": {
            "text/plain": [
              "1"
            ]
          },
          "metadata": {
            "tags": []
          },
          "execution_count": 18
        }
      ]
    },
    {
      "cell_type": "markdown",
      "metadata": {
        "id": "GWOBE-TrL-JS",
        "colab_type": "text"
      },
      "source": [
        "# Типи даних в Python. Set"
      ]
    },
    {
      "cell_type": "markdown",
      "metadata": {
        "id": "rugWoavTL-Jy",
        "colab_type": "text"
      },
      "source": [
        "## Декларація"
      ]
    },
    {
      "cell_type": "code",
      "metadata": {
        "id": "sVJRJc0GL-J2",
        "colab_type": "code",
        "outputId": "3f78b451-56e2-4544-a04a-c4b08787821c",
        "colab": {
          "base_uri": "https://localhost:8080/",
          "height": 71
        }
      },
      "source": [
        "s_apples = {1, 2, \"three\"}\n",
        "s_apples1 = set() #пустий\n",
        "s_apples2 = set(s_apples)\n",
        "\n",
        "print(s_apples)\n",
        "print(s_apples1)\n",
        "print(s_apples2)"
      ],
      "execution_count": 0,
      "outputs": [
        {
          "output_type": "stream",
          "text": [
            "{1, 2, 'three'}\n",
            "set()\n",
            "{1, 2, 'three'}\n"
          ],
          "name": "stdout"
        }
      ]
    },
    {
      "cell_type": "markdown",
      "metadata": {
        "id": "di3iynEcL-KF",
        "colab_type": "text"
      },
      "source": [
        "## Додати елемент"
      ]
    },
    {
      "cell_type": "code",
      "metadata": {
        "id": "fV0JLKccL-KI",
        "colab_type": "code",
        "outputId": "f606a83f-e6de-4237-910d-72cbcc9d453d",
        "colab": {
          "base_uri": "https://localhost:8080/",
          "height": 53
        }
      },
      "source": [
        "s_apples.add(4)\n",
        "print(s_apples)\n",
        "s_apples.add(4)\n",
        "print(s_apples)"
      ],
      "execution_count": 0,
      "outputs": [
        {
          "output_type": "stream",
          "text": [
            "{1, 2, 'three', 4}\n",
            "{1, 2, 'three', 4}\n"
          ],
          "name": "stdout"
        }
      ]
    },
    {
      "cell_type": "markdown",
      "metadata": {
        "id": "ma7nAF1SL-KS",
        "colab_type": "text"
      },
      "source": [
        "## Оновити *set*"
      ]
    },
    {
      "cell_type": "code",
      "metadata": {
        "id": "Ti6dpmooL-KV",
        "colab_type": "code",
        "outputId": "2d398162-1f8f-4602-f405-88b729974859",
        "colab": {
          "base_uri": "https://localhost:8080/",
          "height": 35
        }
      },
      "source": [
        "s_apples.update({True, False})\n",
        "print(s_apples)"
      ],
      "execution_count": 0,
      "outputs": [
        {
          "output_type": "stream",
          "text": [
            "{False, 1, 2, 4, 'three'}\n"
          ],
          "name": "stdout"
        }
      ]
    },
    {
      "cell_type": "markdown",
      "metadata": {
        "id": "roK-ZyFaL-Kf",
        "colab_type": "text"
      },
      "source": [
        "## Видалити елемент"
      ]
    },
    {
      "cell_type": "markdown",
      "metadata": {
        "id": "XFoxR2RKL-Ki",
        "colab_type": "text"
      },
      "source": [
        "### Видає помилку, якщо елемент відсутній"
      ]
    },
    {
      "cell_type": "code",
      "metadata": {
        "id": "Bqa_vVvBL-Kl",
        "colab_type": "code",
        "outputId": "c1ca8516-9c7c-47d5-b4fc-f1be23524fe3",
        "colab": {
          "base_uri": "https://localhost:8080/",
          "height": 33
        }
      },
      "source": [
        "s_apples.remove(True)\n",
        "print(s_apples)"
      ],
      "execution_count": 0,
      "outputs": [
        {
          "output_type": "stream",
          "text": [
            "{False, 2, 4, 'three'}\n"
          ],
          "name": "stdout"
        }
      ]
    },
    {
      "cell_type": "code",
      "metadata": {
        "id": "ShbFGRRrL-Ku",
        "colab_type": "code",
        "outputId": "61200cea-d201-49af-d464-7e4add230bc8",
        "colab": {
          "base_uri": "https://localhost:8080/",
          "height": 188
        }
      },
      "source": [
        "s_apples.remove(False)\n",
        "print(s_apples)"
      ],
      "execution_count": 0,
      "outputs": [
        {
          "output_type": "error",
          "ename": "KeyError",
          "evalue": "ignored",
          "traceback": [
            "\u001b[0;31m---------------------------------------------------------------------------\u001b[0m",
            "\u001b[0;31mKeyError\u001b[0m                                  Traceback (most recent call last)",
            "\u001b[0;32m<ipython-input-23-ed6ce87d2656>\u001b[0m in \u001b[0;36m<module>\u001b[0;34m()\u001b[0m\n\u001b[0;32m----> 1\u001b[0;31m \u001b[0ms_apples\u001b[0m\u001b[0;34m.\u001b[0m\u001b[0mremove\u001b[0m\u001b[0;34m(\u001b[0m\u001b[0;32mFalse\u001b[0m\u001b[0;34m)\u001b[0m\u001b[0;34m\u001b[0m\u001b[0;34m\u001b[0m\u001b[0m\n\u001b[0m\u001b[1;32m      2\u001b[0m \u001b[0mprint\u001b[0m\u001b[0;34m(\u001b[0m\u001b[0ms_apples\u001b[0m\u001b[0;34m)\u001b[0m\u001b[0;34m\u001b[0m\u001b[0;34m\u001b[0m\u001b[0m\n",
            "\u001b[0;31mKeyError\u001b[0m: False"
          ]
        }
      ]
    },
    {
      "cell_type": "markdown",
      "metadata": {
        "id": "y6R3ISgaL-K4",
        "colab_type": "text"
      },
      "source": [
        "### При відсутності елемента попросту нічого не робить"
      ]
    },
    {
      "cell_type": "code",
      "metadata": {
        "id": "rlMV7y9TL-K8",
        "colab_type": "code",
        "outputId": "4ee56c39-6700-4c28-b071-217677a6da83",
        "colab": {
          "base_uri": "https://localhost:8080/",
          "height": 35
        }
      },
      "source": [
        "s_apples.discard(False)\n",
        "print(s_apples)"
      ],
      "execution_count": 0,
      "outputs": [
        {
          "output_type": "stream",
          "text": [
            "{1, 2, 4, 'three'}\n"
          ],
          "name": "stdout"
        }
      ]
    },
    {
      "cell_type": "code",
      "metadata": {
        "id": "ZfVFXDUaL-LG",
        "colab_type": "code",
        "outputId": "e9d3babe-3f02-4c68-adf8-989c4b8f9b7e",
        "colab": {
          "base_uri": "https://localhost:8080/",
          "height": 35
        }
      },
      "source": [
        "s_apples.discard(2)\n",
        "print(s_apples)"
      ],
      "execution_count": 0,
      "outputs": [
        {
          "output_type": "stream",
          "text": [
            "{1, 4, 'three'}\n"
          ],
          "name": "stdout"
        }
      ]
    },
    {
      "cell_type": "markdown",
      "metadata": {
        "id": "FiYHmAoRL-Lr",
        "colab_type": "text"
      },
      "source": [
        "# Типи даних в Python. Dict"
      ]
    },
    {
      "cell_type": "markdown",
      "metadata": {
        "id": "7nBklpREL-Lw",
        "colab_type": "text"
      },
      "source": [
        "## Декларація"
      ]
    },
    {
      "cell_type": "code",
      "metadata": {
        "id": "tlOTE41NL-L1",
        "colab_type": "code",
        "outputId": "df3aa49f-1824-4ee9-b869-e67589b82a0e",
        "colab": {
          "base_uri": "https://localhost:8080/",
          "height": 71
        }
      },
      "source": [
        "d_apples = {\n",
        "    1: True, \n",
        "    \"golden_apple\": 1, \n",
        "    \"red_apples\": 2, \n",
        "    \"other_sort\": \"three\"\n",
        "}\n",
        "\n",
        "d_apples1 = dict()\n",
        "\n",
        "d_apples2 = { **d_apples, **{'king_apples': 8}}\n",
        "\n",
        "print(d_apples)\n",
        "print(d_apples1)\n",
        "print(d_apples2)"
      ],
      "execution_count": 0,
      "outputs": [
        {
          "output_type": "stream",
          "text": [
            "{1: True, 'golden_apple': 1, 'red_apples': 2, 'other_sort': 'three'}\n",
            "{}\n",
            "{1: True, 'golden_apple': 1, 'red_apples': 2, 'other_sort': 'three', 'king_apples': 8}\n"
          ],
          "name": "stdout"
        }
      ]
    },
    {
      "cell_type": "markdown",
      "metadata": {
        "id": "J-4yXxNBL-MD",
        "colab_type": "text"
      },
      "source": [
        "## Доступ за ключем"
      ]
    },
    {
      "cell_type": "code",
      "metadata": {
        "id": "_g26Mz7hL-MI",
        "colab_type": "code",
        "outputId": "b8f72152-a9c8-4f4d-fc99-82dcbad7395d",
        "colab": {
          "base_uri": "https://localhost:8080/",
          "height": 35
        }
      },
      "source": [
        "print(d_apples[\"red_apples\"])"
      ],
      "execution_count": 0,
      "outputs": [
        {
          "output_type": "stream",
          "text": [
            "2\n"
          ],
          "name": "stdout"
        }
      ]
    },
    {
      "cell_type": "markdown",
      "metadata": {
        "id": "fbGGEvX6L-MZ",
        "colab_type": "text"
      },
      "source": [
        "## Змінити елемент"
      ]
    },
    {
      "cell_type": "code",
      "metadata": {
        "id": "W1OWH4vOL-Md",
        "colab_type": "code",
        "outputId": "a9e7a5e8-c119-4245-c7b7-1d264b64d6ea",
        "colab": {
          "base_uri": "https://localhost:8080/",
          "height": 35
        }
      },
      "source": [
        "d_apples[\"other_sort\"] = 3\n",
        "print(d_apples)"
      ],
      "execution_count": 0,
      "outputs": [
        {
          "output_type": "stream",
          "text": [
            "{1: True, 'golden_apple': 1, 'red_apples': 2, 'other_sort': 3}\n"
          ],
          "name": "stdout"
        }
      ]
    },
    {
      "cell_type": "markdown",
      "metadata": {
        "id": "UVSB8BICL-Mr",
        "colab_type": "text"
      },
      "source": [
        "## Додати новий елемент"
      ]
    },
    {
      "cell_type": "code",
      "metadata": {
        "id": "4kAoYgjYL-Mv",
        "colab_type": "code",
        "outputId": "664820e2-91c6-48ba-b53a-82f3314d24fd",
        "colab": {
          "base_uri": "https://localhost:8080/",
          "height": 35
        }
      },
      "source": [
        "d_apples[\"pink_apple\"] = False\n",
        "print(d_apples)"
      ],
      "execution_count": 0,
      "outputs": [
        {
          "output_type": "stream",
          "text": [
            "{1: True, 'golden_apple': 1, 'red_apples': 2, 'other_sort': 3, 'pink_apple': False}\n"
          ],
          "name": "stdout"
        }
      ]
    },
    {
      "cell_type": "markdown",
      "metadata": {
        "id": "LW7s2P0XL-M6",
        "colab_type": "text"
      },
      "source": [
        "## Видалити елемент"
      ]
    },
    {
      "cell_type": "code",
      "metadata": {
        "id": "E-WDAnl9L-M-",
        "colab_type": "code",
        "outputId": "7df2e916-19c9-4ea5-fa42-0989e911ab85",
        "colab": {
          "base_uri": "https://localhost:8080/",
          "height": 35
        }
      },
      "source": [
        "del d_apples[\"pink_apple\"]\n",
        "print(d_apples)"
      ],
      "execution_count": 0,
      "outputs": [
        {
          "output_type": "stream",
          "text": [
            "{1: True, 'golden_apple': 1, 'red_apples': 2, 'other_sort': 3}\n"
          ],
          "name": "stdout"
        }
      ]
    },
    {
      "cell_type": "markdown",
      "metadata": {
        "id": "eE5hewjHL-Nj",
        "colab_type": "text"
      },
      "source": [
        "## Вивести ключі словника"
      ]
    },
    {
      "cell_type": "code",
      "metadata": {
        "id": "BFy2aijuL-Nn",
        "colab_type": "code",
        "outputId": "7c692716-ab64-4881-b688-9b7cd73c3ac6",
        "colab": {
          "base_uri": "https://localhost:8080/",
          "height": 35
        }
      },
      "source": [
        "print(d_apples.keys())"
      ],
      "execution_count": 0,
      "outputs": [
        {
          "output_type": "stream",
          "text": [
            "dict_keys([1, 'golden_apple', 'red_apples', 'other_sort'])\n"
          ],
          "name": "stdout"
        }
      ]
    },
    {
      "cell_type": "markdown",
      "metadata": {
        "id": "m1lo4Y7sL-Ny",
        "colab_type": "text"
      },
      "source": [
        "## Вивести значення словника"
      ]
    },
    {
      "cell_type": "code",
      "metadata": {
        "id": "hMSqT22DL-N1",
        "colab_type": "code",
        "outputId": "fff195d1-c21f-43c9-9604-ecb8cc7cf73a",
        "colab": {
          "base_uri": "https://localhost:8080/",
          "height": 35
        }
      },
      "source": [
        "print(d_apples.values())"
      ],
      "execution_count": 0,
      "outputs": [
        {
          "output_type": "stream",
          "text": [
            "dict_values([True, 1, 2, 3])\n"
          ],
          "name": "stdout"
        }
      ]
    },
    {
      "cell_type": "markdown",
      "metadata": {
        "id": "XSZrGl_fL-N_",
        "colab_type": "text"
      },
      "source": [
        "# Типи даних Python. bool"
      ]
    },
    {
      "cell_type": "markdown",
      "metadata": {
        "id": "FEdyUFcjL-OC",
        "colab_type": "text"
      },
      "source": [
        "## Таблиця істинності для виразу *c = a and b*\n",
        "\n",
        "| a | b | c |\n",
        "| --- | --- | --- |\n",
        "| True | True | True |\n",
        "| True | False | False |\n",
        "| False | True | False |\n",
        "| False | False | False |"
      ]
    },
    {
      "cell_type": "markdown",
      "metadata": {
        "id": "oJh9umcjL-OE",
        "colab_type": "text"
      },
      "source": [
        "### Ілюстрація таблиці істинності"
      ]
    },
    {
      "cell_type": "code",
      "metadata": {
        "id": "qtrGiw_AL-OI",
        "colab_type": "code",
        "outputId": "3391409d-bc18-4064-e39d-92c9d1710971",
        "colab": {
          "base_uri": "https://localhost:8080/",
          "height": 33
        }
      },
      "source": [
        "a = True\n",
        "b = True\n",
        "c = a and b\n",
        "print(c)"
      ],
      "execution_count": 0,
      "outputs": [
        {
          "output_type": "stream",
          "text": [
            "True\n"
          ],
          "name": "stdout"
        }
      ]
    },
    {
      "cell_type": "code",
      "metadata": {
        "id": "ybKeFb7oL-OW",
        "colab_type": "code",
        "outputId": "25d57f31-027a-4984-d942-ade49bcfaeaa",
        "colab": {
          "base_uri": "https://localhost:8080/",
          "height": 33
        }
      },
      "source": [
        "a = True\n",
        "b = False\n",
        "c = a and b\n",
        "print(c)"
      ],
      "execution_count": 0,
      "outputs": [
        {
          "output_type": "stream",
          "text": [
            "False\n"
          ],
          "name": "stdout"
        }
      ]
    },
    {
      "cell_type": "code",
      "metadata": {
        "id": "Yqx2RKL5L-Of",
        "colab_type": "code",
        "colab": {}
      },
      "source": [
        "a = False\n",
        "b = True\n",
        "c = a and b\n",
        "print(c)"
      ],
      "execution_count": 0,
      "outputs": []
    },
    {
      "cell_type": "code",
      "metadata": {
        "id": "JwRKnMvEL-Oz",
        "colab_type": "code",
        "colab": {}
      },
      "source": [
        "a = False\n",
        "b = False\n",
        "c = a and b\n",
        "print(c)"
      ],
      "execution_count": 0,
      "outputs": []
    },
    {
      "cell_type": "markdown",
      "metadata": {
        "id": "CChPxIMEL-O7",
        "colab_type": "text"
      },
      "source": [
        "## Таблиця істинності для виразу *c = a or b* \n",
        "\n",
        "| a | b | c |\n",
        "| --- | --- | --- |\n",
        "| True | True | True |\n",
        "| True | False | True |\n",
        "| False | True | True |\n",
        "| False | False | False |"
      ]
    },
    {
      "cell_type": "markdown",
      "metadata": {
        "id": "-Ptmv0xzL-O_",
        "colab_type": "text"
      },
      "source": [
        "### Ілюстрація таблиці істинності"
      ]
    },
    {
      "cell_type": "code",
      "metadata": {
        "id": "AW_igEjwL-PC",
        "colab_type": "code",
        "colab": {}
      },
      "source": [
        "a = True\n",
        "b = True\n",
        "c = a or b\n",
        "print(c)"
      ],
      "execution_count": 0,
      "outputs": []
    },
    {
      "cell_type": "code",
      "metadata": {
        "id": "YPxyffBZL-PK",
        "colab_type": "code",
        "colab": {}
      },
      "source": [
        "a = True\n",
        "b = False\n",
        "c = a or b\n",
        "print(c)"
      ],
      "execution_count": 0,
      "outputs": []
    },
    {
      "cell_type": "code",
      "metadata": {
        "id": "Mw0J6ttJL-PS",
        "colab_type": "code",
        "colab": {}
      },
      "source": [
        "a = False\n",
        "b = True\n",
        "c = a or b\n",
        "print(c)"
      ],
      "execution_count": 0,
      "outputs": []
    },
    {
      "cell_type": "code",
      "metadata": {
        "id": "wk6t64kzL-Pb",
        "colab_type": "code",
        "colab": {}
      },
      "source": [
        "a = False\n",
        "b = False\n",
        "c = a or b\n",
        "print(c)"
      ],
      "execution_count": 0,
      "outputs": []
    },
    {
      "cell_type": "markdown",
      "metadata": {
        "id": "RqNlPEAzL-Po",
        "colab_type": "text"
      },
      "source": [
        "## Таблиця істинності для виразу *b = not a*\n",
        "| a | b |\n",
        "| --- | --- |\n",
        "| True | False |\n",
        "| False | True |"
      ]
    },
    {
      "cell_type": "markdown",
      "metadata": {
        "id": "jxapJZqHL-Ps",
        "colab_type": "text"
      },
      "source": [
        "### Ілюстрація таблиці істинності"
      ]
    },
    {
      "cell_type": "code",
      "metadata": {
        "id": "v4waxFImL-Pv",
        "colab_type": "code",
        "colab": {}
      },
      "source": [
        "a = True\n",
        "b = not a\n",
        "print(b)"
      ],
      "execution_count": 0,
      "outputs": []
    },
    {
      "cell_type": "code",
      "metadata": {
        "id": "MObNw8C-L-P_",
        "colab_type": "code",
        "colab": {}
      },
      "source": [
        "a = False\n",
        "b = not a\n",
        "print(b)"
      ],
      "execution_count": 0,
      "outputs": []
    },
    {
      "cell_type": "markdown",
      "metadata": {
        "id": "n3e-QpsBL-QI",
        "colab_type": "text"
      },
      "source": [
        "## Оператори порівнння"
      ]
    },
    {
      "cell_type": "markdown",
      "metadata": {
        "id": "s6K6VbzLL-QL",
        "colab_type": "text"
      },
      "source": [
        "### Оператор =="
      ]
    },
    {
      "cell_type": "code",
      "metadata": {
        "id": "UunRItjdL-QN",
        "colab_type": "code",
        "colab": {}
      },
      "source": [
        "print(2 == 2)\n",
        "print(4 == 0)\n",
        "print(\"test\" == \"test\")"
      ],
      "execution_count": 0,
      "outputs": []
    },
    {
      "cell_type": "markdown",
      "metadata": {
        "id": "xF9R1-5kL-Qa",
        "colab_type": "text"
      },
      "source": [
        "### Оператор >"
      ]
    },
    {
      "cell_type": "code",
      "metadata": {
        "id": "sWWEtqTML-Qd",
        "colab_type": "code",
        "colab": {}
      },
      "source": [
        "print(2 > 4)\n",
        "print(2 > 0)"
      ],
      "execution_count": 0,
      "outputs": []
    },
    {
      "cell_type": "markdown",
      "metadata": {
        "id": "KuzFH-oHL-Qn",
        "colab_type": "text"
      },
      "source": [
        "### Оператор >="
      ]
    },
    {
      "cell_type": "code",
      "metadata": {
        "id": "XJS_Gh3gL-Qq",
        "colab_type": "code",
        "colab": {}
      },
      "source": [
        "print(2 >= 2)\n",
        "print(4 >= 2)\n",
        "print(5 >= 7)"
      ],
      "execution_count": 0,
      "outputs": []
    },
    {
      "cell_type": "markdown",
      "metadata": {
        "id": "6ILoBYSNL-Qy",
        "colab_type": "text"
      },
      "source": [
        "### Оператор <"
      ]
    },
    {
      "cell_type": "code",
      "metadata": {
        "id": "kkioiz9xL-Qz",
        "colab_type": "code",
        "colab": {}
      },
      "source": [
        "print(2 < 1)\n",
        "print(5 < 5)\n",
        "print(0 < 3)"
      ],
      "execution_count": 0,
      "outputs": []
    },
    {
      "cell_type": "markdown",
      "metadata": {
        "id": "T6IBfbdlL-RW",
        "colab_type": "text"
      },
      "source": [
        "### Оператор <="
      ]
    },
    {
      "cell_type": "code",
      "metadata": {
        "id": "GkuBWhcKL-RZ",
        "colab_type": "code",
        "colab": {}
      },
      "source": [
        "print(2 <= 1)\n",
        "print(5 <= 5)\n",
        "print(0 <= 3)"
      ],
      "execution_count": 0,
      "outputs": []
    },
    {
      "cell_type": "markdown",
      "metadata": {
        "id": "pqekc9PmL-Rh",
        "colab_type": "text"
      },
      "source": [
        "### Оператор !="
      ]
    },
    {
      "cell_type": "code",
      "metadata": {
        "id": "tBiDlR8PL-Rl",
        "colab_type": "code",
        "colab": {}
      },
      "source": [
        "print(5 != False)\n",
        "print(6 != 8)\n",
        "print(\"ttt\" != \"ttt\")"
      ],
      "execution_count": 0,
      "outputs": []
    },
    {
      "cell_type": "markdown",
      "metadata": {
        "id": "oxs3mpZtL-R0",
        "colab_type": "text"
      },
      "source": [
        "## Приклад оператора **if**\n",
        "### Матч *Динамо - Барселона*"
      ]
    },
    {
      "cell_type": "code",
      "metadata": {
        "id": "UTDBiA9OL-R6",
        "colab_type": "code",
        "outputId": "fb13b0ca-e888-4a3e-a93a-ab02b41bdf86",
        "colab": {
          "base_uri": "https://localhost:8080/",
          "height": 35
        }
      },
      "source": [
        "dynamo_scores = 0\n",
        "barselona_scores = 3\n",
        "\n",
        "if dynamo_scores > barselona_scores:\n",
        "    print(\"Ура!!! Наші виграли\")\n",
        "elif dynamo_scores < barselona_scores:\n",
        "    print(\"От лихо! Знов Мілевський по полю ходив ☹\")\n",
        "else:\n",
        "    print(\"Погода була дощова. Обидві команди поснули\")\n"
      ],
      "execution_count": 0,
      "outputs": [
        {
          "output_type": "stream",
          "text": [
            "Погода була дощова. Обидві команди поснули\n"
          ],
          "name": "stdout"
        }
      ]
    },
    {
      "cell_type": "markdown",
      "metadata": {
        "id": "BGvC4CiUL-SE",
        "colab_type": "text"
      },
      "source": [
        "## Приклад оператора **for**\n",
        "### Перебираємо картоплю"
      ]
    },
    {
      "cell_type": "code",
      "metadata": {
        "id": "BNohNFvUL-SH",
        "colab_type": "code",
        "colab": {}
      },
      "source": [
        "potatoes  = [True, True, False, True, False, False, True]\n",
        "\n",
        "for potato in potatoes:\n",
        "    if potato:\n",
        "        print(\"Відкладаємо для готування їжі\")\n",
        "    else:\n",
        "        print(\"Гнила картопля. Викидаємо\")"
      ],
      "execution_count": 0,
      "outputs": []
    },
    {
      "cell_type": "markdown",
      "metadata": {
        "id": "2AizwewxL-SQ",
        "colab_type": "text"
      },
      "source": [
        "## Приклад оператора **while**\n",
        "### Скажене додавання до 100"
      ]
    },
    {
      "cell_type": "code",
      "metadata": {
        "id": "7klUrop7L-Sc",
        "colab_type": "code",
        "outputId": "fce1730f-8b2e-46e1-cbb4-f5e4ba766d44",
        "colab": {
          "base_uri": "https://localhost:8080/",
          "height": 1000
        }
      },
      "source": [
        "counter = 0\n",
        "\n",
        "while counter < 100:\n",
        "    print(f\"Отримали проміжний результат {counter}\")\n",
        "    counter += 1\n",
        "    \n",
        "print(f\"Ура!!! Ми отримали {counter}\")\n"
      ],
      "execution_count": 0,
      "outputs": [
        {
          "output_type": "stream",
          "text": [
            "Отримали проміжний результат 0\n",
            "Отримали проміжний результат 1\n",
            "Отримали проміжний результат 2\n",
            "Отримали проміжний результат 3\n",
            "Отримали проміжний результат 4\n",
            "Отримали проміжний результат 5\n",
            "Отримали проміжний результат 6\n",
            "Отримали проміжний результат 7\n",
            "Отримали проміжний результат 8\n",
            "Отримали проміжний результат 9\n",
            "Отримали проміжний результат 10\n",
            "Отримали проміжний результат 11\n",
            "Отримали проміжний результат 12\n",
            "Отримали проміжний результат 13\n",
            "Отримали проміжний результат 14\n",
            "Отримали проміжний результат 15\n",
            "Отримали проміжний результат 16\n",
            "Отримали проміжний результат 17\n",
            "Отримали проміжний результат 18\n",
            "Отримали проміжний результат 19\n",
            "Отримали проміжний результат 20\n",
            "Отримали проміжний результат 21\n",
            "Отримали проміжний результат 22\n",
            "Отримали проміжний результат 23\n",
            "Отримали проміжний результат 24\n",
            "Отримали проміжний результат 25\n",
            "Отримали проміжний результат 26\n",
            "Отримали проміжний результат 27\n",
            "Отримали проміжний результат 28\n",
            "Отримали проміжний результат 29\n",
            "Отримали проміжний результат 30\n",
            "Отримали проміжний результат 31\n",
            "Отримали проміжний результат 32\n",
            "Отримали проміжний результат 33\n",
            "Отримали проміжний результат 34\n",
            "Отримали проміжний результат 35\n",
            "Отримали проміжний результат 36\n",
            "Отримали проміжний результат 37\n",
            "Отримали проміжний результат 38\n",
            "Отримали проміжний результат 39\n",
            "Отримали проміжний результат 40\n",
            "Отримали проміжний результат 41\n",
            "Отримали проміжний результат 42\n",
            "Отримали проміжний результат 43\n",
            "Отримали проміжний результат 44\n",
            "Отримали проміжний результат 45\n",
            "Отримали проміжний результат 46\n",
            "Отримали проміжний результат 47\n",
            "Отримали проміжний результат 48\n",
            "Отримали проміжний результат 49\n",
            "Отримали проміжний результат 50\n",
            "Отримали проміжний результат 51\n",
            "Отримали проміжний результат 52\n",
            "Отримали проміжний результат 53\n",
            "Отримали проміжний результат 54\n",
            "Отримали проміжний результат 56\n",
            "Отримали проміжний результат 57\n",
            "Отримали проміжний результат 58\n",
            "Отримали проміжний результат 59\n",
            "Отримали проміжний результат 60\n",
            "Отримали проміжний результат 61\n",
            "Отримали проміжний результат 62\n",
            "Отримали проміжний результат 63\n",
            "Отримали проміжний результат 64\n",
            "Отримали проміжний результат 65\n",
            "Отримали проміжний результат 66\n",
            "Отримали проміжний результат 67\n",
            "Отримали проміжний результат 68\n",
            "Отримали проміжний результат 69\n",
            "Отримали проміжний результат 70\n",
            "Отримали проміжний результат 71\n",
            "Отримали проміжний результат 72\n",
            "Отримали проміжний результат 73\n",
            "Отримали проміжний результат 74\n",
            "Отримали проміжний результат 75\n",
            "Отримали проміжний результат 76\n",
            "Отримали проміжний результат 77\n",
            "Отримали проміжний результат 78\n",
            "Отримали проміжний результат 79\n",
            "Отримали проміжний результат 80\n",
            "Отримали проміжний результат 81\n",
            "Отримали проміжний результат 82\n",
            "Отримали проміжний результат 83\n",
            "Отримали проміжний результат 84\n",
            "Отримали проміжний результат 85\n",
            "Отримали проміжний результат 86\n",
            "Отримали проміжний результат 87\n",
            "Отримали проміжний результат 88\n",
            "Отримали проміжний результат 89\n",
            "Отримали проміжний результат 90\n",
            "Отримали проміжний результат 91\n",
            "Отримали проміжний результат 92\n",
            "Отримали проміжний результат 93\n",
            "Отримали проміжний результат 94\n",
            "Отримали проміжний результат 95\n",
            "Отримали проміжний результат 96\n",
            "Отримали проміжний результат 97\n",
            "Отримали проміжний результат 98\n",
            "Отримали проміжний результат 99\n",
            "Ура!!! Ми отримали 100\n"
          ],
          "name": "stdout"
        }
      ]
    },
    {
      "cell_type": "markdown",
      "metadata": {
        "id": "h32WEA0mL-Sn",
        "colab_type": "text"
      },
      "source": [
        "# Про значення None"
      ]
    },
    {
      "cell_type": "code",
      "metadata": {
        "id": "tfJN6JfkL-Sr",
        "colab_type": "code",
        "colab": {}
      },
      "source": [
        "a = None\n",
        "a + 2"
      ],
      "execution_count": 0,
      "outputs": []
    },
    {
      "cell_type": "code",
      "metadata": {
        "id": "cMaWOu_qL-S4",
        "colab_type": "code",
        "colab": {}
      },
      "source": [
        "print(None)"
      ],
      "execution_count": 0,
      "outputs": []
    },
    {
      "cell_type": "code",
      "metadata": {
        "id": "mNQ1CtkaL-TM",
        "colab_type": "code",
        "colab": {}
      },
      "source": [
        "assert None"
      ],
      "execution_count": 0,
      "outputs": []
    },
    {
      "cell_type": "markdown",
      "metadata": {
        "id": "rsfDdgpNL-TW",
        "colab_type": "text"
      },
      "source": [
        "# Змінні"
      ]
    },
    {
      "cell_type": "code",
      "metadata": {
        "id": "PmCJEDr9L-TZ",
        "colab_type": "code",
        "colab": {}
      },
      "source": [
        "a = 1\n",
        "\n",
        "print(a)\n",
        "\n",
        "a = None\n",
        "\n",
        "print(a)\n",
        "\n",
        "a = \"Тепер я стрічка\"\n",
        "\n",
        "print(a)"
      ],
      "execution_count": 0,
      "outputs": []
    },
    {
      "cell_type": "markdown",
      "metadata": {
        "id": "8_2CKOVYL-Tj",
        "colab_type": "text"
      },
      "source": [
        "# Функції"
      ]
    },
    {
      "cell_type": "markdown",
      "metadata": {
        "id": "dORJysWzL-Tm",
        "colab_type": "text"
      },
      "source": [
        "## Без повернення значення (просто щось роблять)"
      ]
    },
    {
      "cell_type": "markdown",
      "metadata": {
        "id": "Yrtq9I0oL-Tu",
        "colab_type": "text"
      },
      "source": [
        "### Оголошення"
      ]
    },
    {
      "cell_type": "code",
      "metadata": {
        "id": "qIjJJQHYL-Tx",
        "colab_type": "code",
        "colab": {}
      },
      "source": [
        "def print_hello_world():\n",
        "    print(\"Привіт Світе!\")"
      ],
      "execution_count": 0,
      "outputs": []
    },
    {
      "cell_type": "markdown",
      "metadata": {
        "id": "iqij4prQL-T7",
        "colab_type": "text"
      },
      "source": [
        "### Виклик"
      ]
    },
    {
      "cell_type": "code",
      "metadata": {
        "id": "0DHP8CXmL-T9",
        "colab_type": "code",
        "colab": {}
      },
      "source": [
        "print_hello_world()\n",
        "e = print_hello_world()\n",
        "print(e)"
      ],
      "execution_count": 0,
      "outputs": []
    },
    {
      "cell_type": "markdown",
      "metadata": {
        "id": "W7Vc03BXL-UP",
        "colab_type": "text"
      },
      "source": [
        "## З поверненням значення (оператор *return*)"
      ]
    },
    {
      "cell_type": "markdown",
      "metadata": {
        "id": "hTykcUvuL-UU",
        "colab_type": "text"
      },
      "source": [
        "### Оголошення"
      ]
    },
    {
      "cell_type": "code",
      "metadata": {
        "id": "HEZK1GyVL-Uf",
        "colab_type": "code",
        "colab": {}
      },
      "source": [
        "def make_sum(a, b):\n",
        "    return a + b"
      ],
      "execution_count": 0,
      "outputs": []
    },
    {
      "cell_type": "markdown",
      "metadata": {
        "id": "zBQMUGLoL-Un",
        "colab_type": "text"
      },
      "source": [
        "### Виклик"
      ]
    },
    {
      "cell_type": "code",
      "metadata": {
        "id": "1mJBbYRWL-Up",
        "colab_type": "code",
        "colab": {}
      },
      "source": [
        "s = make_sum(720, 3)\n",
        "print(s)"
      ],
      "execution_count": 0,
      "outputs": []
    },
    {
      "cell_type": "markdown",
      "metadata": {
        "id": "7HyLjbnvL-VF",
        "colab_type": "text"
      },
      "source": [
        "# Концепція «все є об’єктом»"
      ]
    },
    {
      "cell_type": "markdown",
      "metadata": {
        "id": "UgSU8uIBL-VI",
        "colab_type": "text"
      },
      "source": [
        "## Змінна"
      ]
    },
    {
      "cell_type": "markdown",
      "metadata": {
        "id": "-CWaPqLZL-VJ",
        "colab_type": "text"
      },
      "source": [
        "### Властивості"
      ]
    },
    {
      "cell_type": "code",
      "metadata": {
        "id": "hnuM8FmNL-VM",
        "colab_type": "code",
        "colab": {}
      },
      "source": [
        "var = 300"
      ],
      "execution_count": 0,
      "outputs": []
    },
    {
      "cell_type": "code",
      "metadata": {
        "id": "0Kzet6rQL-VR",
        "colab_type": "code",
        "outputId": "d198bd6c-10fc-4598-c32d-be8135517399",
        "colab": {
          "base_uri": "https://localhost:8080/",
          "height": 35
        }
      },
      "source": [
        "print(var.numerator)"
      ],
      "execution_count": 0,
      "outputs": [
        {
          "output_type": "stream",
          "text": [
            "300\n"
          ],
          "name": "stdout"
        }
      ]
    },
    {
      "cell_type": "code",
      "metadata": {
        "id": "7ldcDurVL-Vg",
        "colab_type": "code",
        "outputId": "1f1d52d4-711a-42f1-8430-84724979a810",
        "colab": {
          "base_uri": "https://localhost:8080/",
          "height": 35
        }
      },
      "source": [
        "print(var.imag)"
      ],
      "execution_count": 0,
      "outputs": [
        {
          "output_type": "stream",
          "text": [
            "0\n"
          ],
          "name": "stdout"
        }
      ]
    },
    {
      "cell_type": "markdown",
      "metadata": {
        "id": "T2QecMMTL-Vn",
        "colab_type": "text"
      },
      "source": [
        "### Методи"
      ]
    },
    {
      "cell_type": "code",
      "metadata": {
        "id": "X1vIIF_-L-Vo",
        "colab_type": "code",
        "colab": {}
      },
      "source": [
        "var = \"якась там стрічка\""
      ],
      "execution_count": 0,
      "outputs": []
    },
    {
      "cell_type": "code",
      "metadata": {
        "id": "-wHGPEHiL-Vv",
        "colab_type": "code",
        "outputId": "1654e83a-974d-4bcd-f699-4045756f0fc7",
        "colab": {
          "base_uri": "https://localhost:8080/",
          "height": 35
        }
      },
      "source": [
        "print(var.capitalize())"
      ],
      "execution_count": 0,
      "outputs": [
        {
          "output_type": "stream",
          "text": [
            "Якась там стрічка\n"
          ],
          "name": "stdout"
        }
      ]
    },
    {
      "cell_type": "code",
      "metadata": {
        "id": "j7eZIKbJL-V1",
        "colab_type": "code",
        "outputId": "2c091337-b405-4926-ed40-386bc56664d0",
        "colab": {
          "base_uri": "https://localhost:8080/",
          "height": 35
        }
      },
      "source": [
        "print(var.join([\"-\", \"+\", \"=\"]))"
      ],
      "execution_count": 0,
      "outputs": [
        {
          "output_type": "stream",
          "text": [
            "-якась там стрічка+якась там стрічка=\n"
          ],
          "name": "stdout"
        }
      ]
    },
    {
      "cell_type": "markdown",
      "metadata": {
        "id": "VDfgGIweL-V6",
        "colab_type": "text"
      },
      "source": [
        "## Функції"
      ]
    },
    {
      "cell_type": "code",
      "metadata": {
        "id": "pfJInnTvL-V8",
        "colab_type": "code",
        "colab": {}
      },
      "source": [
        "def three_mul(arg):\n",
        "    return arg*3"
      ],
      "execution_count": 0,
      "outputs": []
    },
    {
      "cell_type": "code",
      "metadata": {
        "id": "txe0Qa-tL-WC",
        "colab_type": "code",
        "outputId": "0fbc9e8b-6740-4b0c-840d-e1881b928a3e",
        "colab": {
          "base_uri": "https://localhost:8080/",
          "height": 35
        }
      },
      "source": [
        "print(three_mul(3))"
      ],
      "execution_count": 0,
      "outputs": [
        {
          "output_type": "stream",
          "text": [
            "9\n"
          ],
          "name": "stdout"
        }
      ]
    },
    {
      "cell_type": "code",
      "metadata": {
        "id": "mzKGoKA8L-WK",
        "colab_type": "code",
        "outputId": "4391af55-862f-4b35-875b-13a0095600a6",
        "colab": {
          "base_uri": "https://localhost:8080/",
          "height": 35
        }
      },
      "source": [
        "print(three_mul(\"three\"))"
      ],
      "execution_count": 0,
      "outputs": [
        {
          "output_type": "stream",
          "text": [
            "threethreethree\n"
          ],
          "name": "stdout"
        }
      ]
    },
    {
      "cell_type": "markdown",
      "metadata": {
        "id": "jjbwC-HuL-WQ",
        "colab_type": "text"
      },
      "source": [
        "### Властивості"
      ]
    },
    {
      "cell_type": "code",
      "metadata": {
        "id": "DaJN48ijL-WX",
        "colab_type": "code",
        "outputId": "404c83e1-3517-4023-f137-4ae89f34ea76",
        "colab": {
          "base_uri": "https://localhost:8080/",
          "height": 35
        }
      },
      "source": [
        "three_mul.__name__"
      ],
      "execution_count": 0,
      "outputs": [
        {
          "output_type": "execute_result",
          "data": {
            "text/plain": [
              "'three_mul'"
            ]
          },
          "metadata": {
            "tags": []
          },
          "execution_count": 58
        }
      ]
    },
    {
      "cell_type": "markdown",
      "metadata": {
        "id": "4-dUSOZ3L-Wj",
        "colab_type": "text"
      },
      "source": [
        "### Методи"
      ]
    },
    {
      "cell_type": "code",
      "metadata": {
        "id": "ihJn8lw7L-Wk",
        "colab_type": "code",
        "outputId": "69a27f6e-6abc-4446-b971-70e1e0e63821",
        "colab": {
          "base_uri": "https://localhost:8080/",
          "height": 35
        }
      },
      "source": [
        "three_mul.__call__(True)"
      ],
      "execution_count": 0,
      "outputs": [
        {
          "output_type": "execute_result",
          "data": {
            "text/plain": [
              "3"
            ]
          },
          "metadata": {
            "tags": []
          },
          "execution_count": 59
        }
      ]
    },
    {
      "cell_type": "markdown",
      "metadata": {
        "id": "NSNMNHMsL-Wq",
        "colab_type": "text"
      },
      "source": [
        "## Класи"
      ]
    },
    {
      "cell_type": "code",
      "metadata": {
        "id": "tPluyvpDL-Wu",
        "colab_type": "code",
        "colab": {}
      },
      "source": [
        "class A(object):\n",
        "    def s(self):\n",
        "        pass"
      ],
      "execution_count": 0,
      "outputs": []
    },
    {
      "cell_type": "markdown",
      "metadata": {
        "id": "RbcXrrWRL-W1",
        "colab_type": "text"
      },
      "source": [
        "### Властивості"
      ]
    },
    {
      "cell_type": "code",
      "metadata": {
        "id": "oAXohi1fL-W2",
        "colab_type": "code",
        "outputId": "c27383a8-37ba-4661-d4ee-38df89fa0552",
        "colab": {
          "base_uri": "https://localhost:8080/",
          "height": 107
        }
      },
      "source": [
        "A.__dict__"
      ],
      "execution_count": 0,
      "outputs": [
        {
          "output_type": "execute_result",
          "data": {
            "text/plain": [
              "mappingproxy({'__dict__': <attribute '__dict__' of 'A' objects>,\n",
              "              '__doc__': None,\n",
              "              '__module__': '__main__',\n",
              "              '__weakref__': <attribute '__weakref__' of 'A' objects>,\n",
              "              's': <function __main__.A.s>})"
            ]
          },
          "metadata": {
            "tags": []
          },
          "execution_count": 61
        }
      ]
    },
    {
      "cell_type": "markdown",
      "metadata": {
        "id": "SdO6QcPIL-XA",
        "colab_type": "text"
      },
      "source": [
        "### Методи"
      ]
    },
    {
      "cell_type": "code",
      "metadata": {
        "id": "B1lYjeHsL-XB",
        "colab_type": "code",
        "outputId": "372d5776-be5b-4d45-fa20-e70143fce57e",
        "colab": {
          "base_uri": "https://localhost:8080/",
          "height": 1000
        }
      },
      "source": [
        "a.__dir__()"
      ],
      "execution_count": 0,
      "outputs": [
        {
          "output_type": "execute_result",
          "data": {
            "text/plain": [
              "['__repr__',\n",
              " '__str__',\n",
              " '__and__',\n",
              " '__rand__',\n",
              " '__xor__',\n",
              " '__rxor__',\n",
              " '__or__',\n",
              " '__ror__',\n",
              " '__new__',\n",
              " '__doc__',\n",
              " '__hash__',\n",
              " '__getattribute__',\n",
              " '__lt__',\n",
              " '__le__',\n",
              " '__eq__',\n",
              " '__ne__',\n",
              " '__gt__',\n",
              " '__ge__',\n",
              " '__add__',\n",
              " '__radd__',\n",
              " '__sub__',\n",
              " '__rsub__',\n",
              " '__mul__',\n",
              " '__rmul__',\n",
              " '__mod__',\n",
              " '__rmod__',\n",
              " '__divmod__',\n",
              " '__rdivmod__',\n",
              " '__pow__',\n",
              " '__rpow__',\n",
              " '__neg__',\n",
              " '__pos__',\n",
              " '__abs__',\n",
              " '__bool__',\n",
              " '__invert__',\n",
              " '__lshift__',\n",
              " '__rlshift__',\n",
              " '__rshift__',\n",
              " '__rrshift__',\n",
              " '__int__',\n",
              " '__float__',\n",
              " '__floordiv__',\n",
              " '__rfloordiv__',\n",
              " '__truediv__',\n",
              " '__rtruediv__',\n",
              " '__index__',\n",
              " 'conjugate',\n",
              " 'bit_length',\n",
              " 'to_bytes',\n",
              " 'from_bytes',\n",
              " '__trunc__',\n",
              " '__floor__',\n",
              " '__ceil__',\n",
              " '__round__',\n",
              " '__getnewargs__',\n",
              " '__format__',\n",
              " '__sizeof__',\n",
              " 'real',\n",
              " 'imag',\n",
              " 'numerator',\n",
              " 'denominator',\n",
              " '__setattr__',\n",
              " '__delattr__',\n",
              " '__init__',\n",
              " '__reduce_ex__',\n",
              " '__reduce__',\n",
              " '__subclasshook__',\n",
              " '__init_subclass__',\n",
              " '__dir__',\n",
              " '__class__']"
            ]
          },
          "metadata": {
            "tags": []
          },
          "execution_count": 58
        }
      ]
    },
    {
      "cell_type": "markdown",
      "metadata": {
        "id": "ltDwtnsFL-XI",
        "colab_type": "text"
      },
      "source": [
        "## Python пакети"
      ]
    },
    {
      "cell_type": "code",
      "metadata": {
        "id": "LJc5RttxL-XL",
        "colab_type": "code",
        "colab": {}
      },
      "source": [
        "import random"
      ],
      "execution_count": 0,
      "outputs": []
    },
    {
      "cell_type": "markdown",
      "metadata": {
        "id": "IcgSfkw1L-XS",
        "colab_type": "text"
      },
      "source": [
        "### Властивості"
      ]
    },
    {
      "cell_type": "code",
      "metadata": {
        "id": "JkMkN09BL-XU",
        "colab_type": "code",
        "outputId": "4abe34d0-8491-4ac1-e425-b4ba208c75d7",
        "colab": {
          "base_uri": "https://localhost:8080/",
          "height": 1000
        }
      },
      "source": [
        "random.__builtins__"
      ],
      "execution_count": 0,
      "outputs": [
        {
          "output_type": "execute_result",
          "data": {
            "text/plain": [
              "{'ArithmeticError': ArithmeticError,\n",
              " 'AssertionError': AssertionError,\n",
              " 'AttributeError': AttributeError,\n",
              " 'BaseException': BaseException,\n",
              " 'BlockingIOError': BlockingIOError,\n",
              " 'BrokenPipeError': BrokenPipeError,\n",
              " 'BufferError': BufferError,\n",
              " 'BytesWarning': BytesWarning,\n",
              " 'ChildProcessError': ChildProcessError,\n",
              " 'ConnectionAbortedError': ConnectionAbortedError,\n",
              " 'ConnectionError': ConnectionError,\n",
              " 'ConnectionRefusedError': ConnectionRefusedError,\n",
              " 'ConnectionResetError': ConnectionResetError,\n",
              " 'DeprecationWarning': DeprecationWarning,\n",
              " 'EOFError': EOFError,\n",
              " 'Ellipsis': Ellipsis,\n",
              " 'EnvironmentError': OSError,\n",
              " 'Exception': Exception,\n",
              " 'False': False,\n",
              " 'FileExistsError': FileExistsError,\n",
              " 'FileNotFoundError': FileNotFoundError,\n",
              " 'FloatingPointError': FloatingPointError,\n",
              " 'FutureWarning': FutureWarning,\n",
              " 'GeneratorExit': GeneratorExit,\n",
              " 'IOError': OSError,\n",
              " 'ImportError': ImportError,\n",
              " 'ImportWarning': ImportWarning,\n",
              " 'IndentationError': IndentationError,\n",
              " 'IndexError': IndexError,\n",
              " 'InterruptedError': InterruptedError,\n",
              " 'IsADirectoryError': IsADirectoryError,\n",
              " 'KeyError': KeyError,\n",
              " 'KeyboardInterrupt': KeyboardInterrupt,\n",
              " 'LookupError': LookupError,\n",
              " 'MemoryError': MemoryError,\n",
              " 'ModuleNotFoundError': ModuleNotFoundError,\n",
              " 'NameError': NameError,\n",
              " 'None': None,\n",
              " 'NotADirectoryError': NotADirectoryError,\n",
              " 'NotImplemented': NotImplemented,\n",
              " 'NotImplementedError': NotImplementedError,\n",
              " 'OSError': OSError,\n",
              " 'OverflowError': OverflowError,\n",
              " 'PendingDeprecationWarning': PendingDeprecationWarning,\n",
              " 'PermissionError': PermissionError,\n",
              " 'ProcessLookupError': ProcessLookupError,\n",
              " 'RecursionError': RecursionError,\n",
              " 'ReferenceError': ReferenceError,\n",
              " 'ResourceWarning': ResourceWarning,\n",
              " 'RuntimeError': RuntimeError,\n",
              " 'RuntimeWarning': RuntimeWarning,\n",
              " 'StopAsyncIteration': StopAsyncIteration,\n",
              " 'StopIteration': StopIteration,\n",
              " 'SyntaxError': SyntaxError,\n",
              " 'SyntaxWarning': SyntaxWarning,\n",
              " 'SystemError': SystemError,\n",
              " 'SystemExit': SystemExit,\n",
              " 'TabError': TabError,\n",
              " 'TimeoutError': TimeoutError,\n",
              " 'True': True,\n",
              " 'TypeError': TypeError,\n",
              " 'UnboundLocalError': UnboundLocalError,\n",
              " 'UnicodeDecodeError': UnicodeDecodeError,\n",
              " 'UnicodeEncodeError': UnicodeEncodeError,\n",
              " 'UnicodeError': UnicodeError,\n",
              " 'UnicodeTranslateError': UnicodeTranslateError,\n",
              " 'UnicodeWarning': UnicodeWarning,\n",
              " 'UserWarning': UserWarning,\n",
              " 'ValueError': ValueError,\n",
              " 'Warning': Warning,\n",
              " 'ZeroDivisionError': ZeroDivisionError,\n",
              " '__IPYTHON__': True,\n",
              " '__build_class__': <function __build_class__>,\n",
              " '__debug__': True,\n",
              " '__doc__': \"Built-in functions, exceptions, and other objects.\\n\\nNoteworthy: None is the `nil' object; Ellipsis represents `...' in slices.\",\n",
              " '__import__': <function __import__>,\n",
              " '__loader__': _frozen_importlib.BuiltinImporter,\n",
              " '__name__': 'builtins',\n",
              " '__package__': '',\n",
              " '__spec__': ModuleSpec(name='builtins', loader=<class '_frozen_importlib.BuiltinImporter'>),\n",
              " 'abs': <function abs>,\n",
              " 'all': <function all>,\n",
              " 'any': <function any>,\n",
              " 'ascii': <function ascii>,\n",
              " 'bin': <function bin>,\n",
              " 'bool': bool,\n",
              " 'bytearray': bytearray,\n",
              " 'bytes': bytes,\n",
              " 'callable': <function callable>,\n",
              " 'chr': <function chr>,\n",
              " 'classmethod': classmethod,\n",
              " 'compile': <function compile>,\n",
              " 'complex': complex,\n",
              " 'copyright': Copyright (c) 2001-2018 Python Software Foundation.\n",
              " All Rights Reserved.\n",
              " \n",
              " Copyright (c) 2000 BeOpen.com.\n",
              " All Rights Reserved.\n",
              " \n",
              " Copyright (c) 1995-2001 Corporation for National Research Initiatives.\n",
              " All Rights Reserved.\n",
              " \n",
              " Copyright (c) 1991-1995 Stichting Mathematisch Centrum, Amsterdam.\n",
              " All Rights Reserved.,\n",
              " 'credits':     Thanks to CWI, CNRI, BeOpen.com, Zope Corporation and a cast of thousands\n",
              "     for supporting Python development.  See www.python.org for more information.,\n",
              " 'delattr': <function delattr>,\n",
              " 'dict': dict,\n",
              " 'dir': <function dir>,\n",
              " 'display': <function IPython.core.display.display>,\n",
              " 'divmod': <function divmod>,\n",
              " 'dreload': <function IPython.lib.deepreload._dreload>,\n",
              " 'enumerate': enumerate,\n",
              " 'eval': <function eval>,\n",
              " 'exec': <function exec>,\n",
              " 'filter': filter,\n",
              " 'float': float,\n",
              " 'format': <function format>,\n",
              " 'frozenset': frozenset,\n",
              " 'get_ipython': <bound method InteractiveShell.get_ipython of <google.colab._shell.Shell object at 0x7efc79ccebe0>>,\n",
              " 'getattr': <function getattr>,\n",
              " 'globals': <function globals>,\n",
              " 'hasattr': <function hasattr>,\n",
              " 'hash': <function hash>,\n",
              " 'help': Type help() for interactive help, or help(object) for help about object.,\n",
              " 'hex': <function hex>,\n",
              " 'id': <function id>,\n",
              " 'input': <bound method Kernel.raw_input of <google.colab._kernel.Kernel object at 0x7efc79ccecc0>>,\n",
              " 'int': int,\n",
              " 'isinstance': <function isinstance>,\n",
              " 'issubclass': <function issubclass>,\n",
              " 'iter': <function iter>,\n",
              " 'len': <function len>,\n",
              " 'license': Type license() to see the full license text,\n",
              " 'list': list,\n",
              " 'locals': <function locals>,\n",
              " 'map': map,\n",
              " 'max': <function max>,\n",
              " 'memoryview': memoryview,\n",
              " 'min': <function min>,\n",
              " 'next': <function next>,\n",
              " 'object': object,\n",
              " 'oct': <function oct>,\n",
              " 'open': <function io.open>,\n",
              " 'ord': <function ord>,\n",
              " 'pow': <function pow>,\n",
              " 'print': <function print>,\n",
              " 'property': property,\n",
              " 'range': range,\n",
              " 'repr': <function repr>,\n",
              " 'reversed': reversed,\n",
              " 'round': <function round>,\n",
              " 'set': set,\n",
              " 'setattr': <function setattr>,\n",
              " 'slice': slice,\n",
              " 'sorted': <function sorted>,\n",
              " 'staticmethod': staticmethod,\n",
              " 'str': str,\n",
              " 'sum': <function sum>,\n",
              " 'super': super,\n",
              " 'tuple': tuple,\n",
              " 'type': type,\n",
              " 'vars': <function vars>,\n",
              " 'zip': zip}"
            ]
          },
          "metadata": {
            "tags": []
          },
          "execution_count": 60
        }
      ]
    },
    {
      "cell_type": "markdown",
      "metadata": {
        "id": "gMmPdd-eL-Xa",
        "colab_type": "text"
      },
      "source": [
        "### Методи"
      ]
    },
    {
      "cell_type": "code",
      "metadata": {
        "id": "ZxVgZpmxL-Xb",
        "colab_type": "code",
        "outputId": "703690a3-519d-4dbe-9522-2ab6478c1d61",
        "colab": {
          "base_uri": "https://localhost:8080/",
          "height": 33
        }
      },
      "source": [
        "random._cos(3)"
      ],
      "execution_count": 0,
      "outputs": [
        {
          "output_type": "execute_result",
          "data": {
            "text/plain": [
              "-0.9899924966004454"
            ]
          },
          "metadata": {
            "tags": []
          },
          "execution_count": 61
        }
      ]
    }
  ]
}