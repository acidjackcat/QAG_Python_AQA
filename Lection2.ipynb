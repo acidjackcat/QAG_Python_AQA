{
  "nbformat": 4,
  "nbformat_minor": 0,
  "metadata": {
    "colab": {
      "name": "Lection2.ipynb",
      "provenance": [],
      "collapsed_sections": [],
      "include_colab_link": true
    },
    "kernelspec": {
      "display_name": "Python 3",
      "language": "python",
      "name": "python3"
    }
  },
  "cells": [
    {
      "cell_type": "markdown",
      "metadata": {
        "id": "view-in-github",
        "colab_type": "text"
      },
      "source": [
        "<a href=\"https://colab.research.google.com/github/acidjackcat/QAG_Python_AQA/blob/master/Lection2.ipynb\" target=\"_parent\"><img src=\"https://colab.research.google.com/assets/colab-badge.svg\" alt=\"Open In Colab\"/></a>"
      ]
    },
    {
      "cell_type": "markdown",
      "metadata": {
        "id": "jwm09rT56PIn",
        "colab_type": "text"
      },
      "source": [
        "# Декоратори"
      ]
    },
    {
      "cell_type": "markdown",
      "metadata": {
        "id": "h8VdZ3oY6PIq",
        "colab_type": "text"
      },
      "source": [
        "## Простий декоратор"
      ]
    },
    {
      "cell_type": "markdown",
      "metadata": {
        "id": "m9RA8SYa6PIr",
        "colab_type": "text"
      },
      "source": [
        "### Оголошення"
      ]
    },
    {
      "cell_type": "code",
      "metadata": {
        "id": "q0kqN7dV6PIs",
        "colab_type": "code",
        "colab": {}
      },
      "source": [
        "def decorator(func):\n",
        "    def wrapper():\n",
        "        print(f\"Я виконую функцію з іменем {func.__name__}\")\n",
        "        return func()\n",
        "        \n",
        "    return wrapper"
      ],
      "execution_count": 0,
      "outputs": []
    },
    {
      "cell_type": "markdown",
      "metadata": {
        "id": "ctkbkWoR6PIy",
        "colab_type": "text"
      },
      "source": [
        "### Використання"
      ]
    },
    {
      "cell_type": "code",
      "metadata": {
        "id": "LsPg38JY6PIz",
        "colab_type": "code",
        "outputId": "c96a7cf1-3f15-4fe3-b900-dcd2d94608f5",
        "colab": {
          "base_uri": "https://localhost:8080/",
          "height": 54
        }
      },
      "source": [
        "@decorator\n",
        "def func1():\n",
        "    return \"Я – весела функція\"\n",
        "\n",
        "print(func1())\n"
      ],
      "execution_count": 0,
      "outputs": [
        {
          "output_type": "stream",
          "text": [
            "Я виконую функцію з іменем func1\n",
            "Я – весела функція\n"
          ],
          "name": "stdout"
        }
      ]
    },
    {
      "cell_type": "code",
      "metadata": {
        "id": "wRhKj2LGLkan",
        "colab_type": "code",
        "outputId": "dad88d66-6c59-45ec-bdac-fb601894beae",
        "colab": {
          "base_uri": "https://localhost:8080/",
          "height": 54
        }
      },
      "source": [
        "def func2():\n",
        "  return 1\n",
        "\n",
        "print(decorator(func2)())\n",
        "\n",
        "#decorator(func2)()"
      ],
      "execution_count": 0,
      "outputs": [
        {
          "output_type": "stream",
          "text": [
            "Я виконую функцію з іменем func2\n",
            "1\n"
          ],
          "name": "stdout"
        }
      ]
    },
    {
      "cell_type": "markdown",
      "metadata": {
        "id": "8_GcIiaa6PI5",
        "colab_type": "text"
      },
      "source": [
        "# Генератор списку (comprehensive list)"
      ]
    },
    {
      "cell_type": "code",
      "metadata": {
        "id": "z3QTqxGd6PI6",
        "colab_type": "code",
        "outputId": "b0619278-bcec-4b2e-b4e3-38d149150b5e",
        "colab": {
          "base_uri": "https://localhost:8080/",
          "height": 35
        }
      },
      "source": [
        "var = [s for s in range(10)]\n",
        "print(var)"
      ],
      "execution_count": 0,
      "outputs": [
        {
          "output_type": "stream",
          "text": [
            "[0, 1, 2, 3, 4, 5, 6, 7, 8, 9]\n"
          ],
          "name": "stdout"
        }
      ]
    },
    {
      "cell_type": "code",
      "metadata": {
        "id": "406KFhyO6PI-",
        "colab_type": "code",
        "outputId": "d1e0fda4-714f-4319-9146-fc19a0dea31f",
        "colab": {
          "base_uri": "https://localhost:8080/",
          "height": 35
        }
      },
      "source": [
        "geom_progr = [i * 11 for i in range(10)]\n",
        "print(geom_progr)"
      ],
      "execution_count": 0,
      "outputs": [
        {
          "output_type": "stream",
          "text": [
            "[0, 11, 22, 33, 44, 55, 66, 77, 88, 99]\n"
          ],
          "name": "stdout"
        }
      ]
    },
    {
      "cell_type": "code",
      "metadata": {
        "id": "TKHQRyWH6PJB",
        "colab_type": "code",
        "outputId": "3bc040fd-8a50-4463-bf0c-f444db823d8b",
        "colab": {
          "base_uri": "https://localhost:8080/",
          "height": 35
        }
      },
      "source": [
        "modulo_2 = [i for i in range(10) if i%2 == 0]\n",
        "print(modulo_2)"
      ],
      "execution_count": 0,
      "outputs": [
        {
          "output_type": "stream",
          "text": [
            "[0, 2, 4, 6, 8]\n"
          ],
          "name": "stdout"
        }
      ]
    },
    {
      "cell_type": "markdown",
      "metadata": {
        "id": "s7O2tjl_6PJH",
        "colab_type": "text"
      },
      "source": [
        "# Вирази генератори"
      ]
    },
    {
      "cell_type": "code",
      "metadata": {
        "id": "0jH8v9-O6PJI",
        "colab_type": "code",
        "colab": {}
      },
      "source": [
        "gen = (a*2 for a in range(10) if a%2 != 0)"
      ],
      "execution_count": 0,
      "outputs": []
    },
    {
      "cell_type": "code",
      "metadata": {
        "id": "oPtM41nU6PJM",
        "colab_type": "code",
        "outputId": "36249868-9c2c-4e62-8d40-fd9d6756cded",
        "colab": {
          "base_uri": "https://localhost:8080/",
          "height": 54
        }
      },
      "source": [
        "print(gen.__next__())\n",
        "print(gen.__next__())"
      ],
      "execution_count": 0,
      "outputs": [
        {
          "output_type": "stream",
          "text": [
            "2\n",
            "6\n"
          ],
          "name": "stdout"
        }
      ]
    },
    {
      "cell_type": "code",
      "metadata": {
        "id": "U0po9-o_6PJQ",
        "colab_type": "code",
        "outputId": "aefdb88f-1f5c-4613-bc7f-69983ab8381c",
        "colab": {
          "base_uri": "https://localhost:8080/",
          "height": 72
        }
      },
      "source": [
        "for i in gen:\n",
        "    print(i)"
      ],
      "execution_count": 0,
      "outputs": [
        {
          "output_type": "stream",
          "text": [
            "10\n",
            "14\n",
            "18\n"
          ],
          "name": "stdout"
        }
      ]
    },
    {
      "cell_type": "markdown",
      "metadata": {
        "id": "cQNYSCtg6PJZ",
        "colab_type": "text"
      },
      "source": [
        "# Lambda - вирази"
      ]
    },
    {
      "cell_type": "code",
      "metadata": {
        "id": "i1jOPatQ6PJb",
        "colab_type": "code",
        "outputId": "4420b131-db70-4102-9fc0-6bd51a454590",
        "colab": {
          "base_uri": "https://localhost:8080/",
          "height": 35
        }
      },
      "source": [
        "sum = lambda a, b: a + b\n",
        "print(sum(99, 3))"
      ],
      "execution_count": 0,
      "outputs": [
        {
          "output_type": "stream",
          "text": [
            "102\n"
          ],
          "name": "stdout"
        }
      ]
    },
    {
      "cell_type": "markdown",
      "metadata": {
        "id": "CKBTwfmf6PJh",
        "colab_type": "text"
      },
      "source": [
        "# Рекурсія"
      ]
    },
    {
      "cell_type": "code",
      "metadata": {
        "id": "1r8yJmuG6PJj",
        "colab_type": "code",
        "outputId": "7553b50b-e5b7-41c5-ebba-24e6d5b7e792",
        "colab": {
          "base_uri": "https://localhost:8080/",
          "height": 225
        }
      },
      "source": [
        "def factorial(n): \n",
        "    print(\"factorial has been called with n = \" + str(n)) \n",
        "    if n == 1: \n",
        "        return 1 \n",
        "    else: \n",
        "        res = n * factorial(n-1) \n",
        "        print(\n",
        "            \"intermediate result for \", \n",
        "            n, \n",
        "            \" * factorial(\" ,n-1, \"): \",\n",
        "            res\n",
        "        ) \n",
        "        \n",
        "        return res\n",
        "    \n",
        "    \n",
        "print(factorial(6))"
      ],
      "execution_count": 0,
      "outputs": [
        {
          "output_type": "stream",
          "text": [
            "factorial has been called with n = 6\n",
            "factorial has been called with n = 5\n",
            "factorial has been called with n = 4\n",
            "factorial has been called with n = 3\n",
            "factorial has been called with n = 2\n",
            "factorial has been called with n = 1\n",
            "intermediate result for  2  * factorial( 1 ):  2\n",
            "intermediate result for  3  * factorial( 2 ):  6\n",
            "intermediate result for  4  * factorial( 3 ):  24\n",
            "intermediate result for  5  * factorial( 4 ):  120\n",
            "intermediate result for  6  * factorial( 5 ):  720\n",
            "720\n"
          ],
          "name": "stdout"
        }
      ]
    },
    {
      "cell_type": "code",
      "metadata": {
        "id": "wrfRGHNV6PJn",
        "colab_type": "code",
        "outputId": "76c4d42c-e11c-49aa-d287-8d02db9939cc",
        "colab": {
          "base_uri": "https://localhost:8080/",
          "height": 363
        }
      },
      "source": [
        "def bad_recursion():\n",
        "  bad_recursion()\n",
        "  \n",
        "bad_recursion()"
      ],
      "execution_count": 0,
      "outputs": [
        {
          "output_type": "error",
          "ename": "RecursionError",
          "evalue": "ignored",
          "traceback": [
            "\u001b[0;31m---------------------------------------------------------------------------\u001b[0m",
            "\u001b[0;31mRecursionError\u001b[0m                            Traceback (most recent call last)",
            "\u001b[0;32m<ipython-input-2-8874f6c25c88>\u001b[0m in \u001b[0;36m<module>\u001b[0;34m()\u001b[0m\n\u001b[1;32m      2\u001b[0m   \u001b[0mbad_recursion\u001b[0m\u001b[0;34m(\u001b[0m\u001b[0;34m)\u001b[0m\u001b[0;34m\u001b[0m\u001b[0;34m\u001b[0m\u001b[0m\n\u001b[1;32m      3\u001b[0m \u001b[0;34m\u001b[0m\u001b[0m\n\u001b[0;32m----> 4\u001b[0;31m \u001b[0mbad_recursion\u001b[0m\u001b[0;34m(\u001b[0m\u001b[0;34m)\u001b[0m\u001b[0;34m\u001b[0m\u001b[0;34m\u001b[0m\u001b[0m\n\u001b[0m",
            "\u001b[0;32m<ipython-input-2-8874f6c25c88>\u001b[0m in \u001b[0;36mbad_recursion\u001b[0;34m()\u001b[0m\n\u001b[1;32m      1\u001b[0m \u001b[0;32mdef\u001b[0m \u001b[0mbad_recursion\u001b[0m\u001b[0;34m(\u001b[0m\u001b[0;34m)\u001b[0m\u001b[0;34m:\u001b[0m\u001b[0;34m\u001b[0m\u001b[0;34m\u001b[0m\u001b[0m\n\u001b[0;32m----> 2\u001b[0;31m   \u001b[0mbad_recursion\u001b[0m\u001b[0;34m(\u001b[0m\u001b[0;34m)\u001b[0m\u001b[0;34m\u001b[0m\u001b[0;34m\u001b[0m\u001b[0m\n\u001b[0m\u001b[1;32m      3\u001b[0m \u001b[0;34m\u001b[0m\u001b[0m\n\u001b[1;32m      4\u001b[0m \u001b[0mbad_recursion\u001b[0m\u001b[0;34m(\u001b[0m\u001b[0;34m)\u001b[0m\u001b[0;34m\u001b[0m\u001b[0;34m\u001b[0m\u001b[0m\n",
            "... last 1 frames repeated, from the frame below ...\n",
            "\u001b[0;32m<ipython-input-2-8874f6c25c88>\u001b[0m in \u001b[0;36mbad_recursion\u001b[0;34m()\u001b[0m\n\u001b[1;32m      1\u001b[0m \u001b[0;32mdef\u001b[0m \u001b[0mbad_recursion\u001b[0m\u001b[0;34m(\u001b[0m\u001b[0;34m)\u001b[0m\u001b[0;34m:\u001b[0m\u001b[0;34m\u001b[0m\u001b[0;34m\u001b[0m\u001b[0m\n\u001b[0;32m----> 2\u001b[0;31m   \u001b[0mbad_recursion\u001b[0m\u001b[0;34m(\u001b[0m\u001b[0;34m)\u001b[0m\u001b[0;34m\u001b[0m\u001b[0;34m\u001b[0m\u001b[0m\n\u001b[0m\u001b[1;32m      3\u001b[0m \u001b[0;34m\u001b[0m\u001b[0m\n\u001b[1;32m      4\u001b[0m \u001b[0mbad_recursion\u001b[0m\u001b[0;34m(\u001b[0m\u001b[0;34m)\u001b[0m\u001b[0;34m\u001b[0m\u001b[0;34m\u001b[0m\u001b[0m\n",
            "\u001b[0;31mRecursionError\u001b[0m: maximum recursion depth exceeded"
          ]
        }
      ]
    }
  ]
}